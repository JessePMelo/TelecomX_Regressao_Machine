{
  "cells": [
    {
      "cell_type": "markdown",
      "metadata": {
        "id": "view-in-github",
        "colab_type": "text"
      },
      "source": [
        "<a href=\"https://colab.research.google.com/github/JessePMelo/TelecomX_Regressao_Machine/blob/main/TelecomX_Regressao_machine.ipynb\" target=\"_parent\"><img src=\"https://colab.research.google.com/assets/colab-badge.svg\" alt=\"Open In Colab\"/></a>"
      ]
    },
    {
      "cell_type": "markdown",
      "source": [
        "#Regressão Linear -  Oracle Next Education G8 - Data Science\n"
      ],
      "metadata": {
        "id": "TesBDyH0MNSQ"
      }
    },
    {
      "cell_type": "markdown",
      "source": [
        "## Sumário  \n",
        "\n",
        "- Objetivo  \n",
        "- Carga e Inspeção de Dados  \n",
        "- Pré-Processamento  \n",
        "- Modelagem  \n",
        "- Avaliação  \n",
        "- Conclusões"
      ],
      "metadata": {
        "id": "2_GrEvQ58jHu"
      }
    },
    {
      "cell_type": "markdown",
      "source": [
        "###Objetivo\n",
        "\n",
        "Este projeto visa prever cancelamentos de clientes de telecom usando Regressão Logística e Random Forest, comparando seus desempenhos em métricas de classificação.\n",
        "\n",
        "\n"
      ],
      "metadata": {
        "id": "of9fbdQNNnpH"
      }
    },
    {
      "cell_type": "markdown",
      "source": [
        "###Carga e Inspeção de dados"
      ],
      "metadata": {
        "id": "Uq2QPq-PQHa8"
      }
    },
    {
      "cell_type": "markdown",
      "source": [
        "####Carga de dados"
      ],
      "metadata": {
        "id": "vdQu7UgtSXA9"
      }
    },
    {
      "cell_type": "markdown",
      "source": [
        "Importar todas bibliotecas"
      ],
      "metadata": {
        "id": "Qh_UZOacQjHc"
      }
    },
    {
      "cell_type": "code",
      "execution_count": 43,
      "metadata": {
        "id": "X0AzNDHs-iwa"
      },
      "outputs": [],
      "source": [
        "import pandas as pd\n",
        "import numpy as np\n",
        "import matplotlib.pyplot as plt\n",
        "import seaborn as sns\n",
        "\n",
        "from sklearn.preprocessing import OneHotEncoder\n",
        "from sklearn.compose import ColumnTransformer\n",
        "\n",
        "from sklearn.model_selection import train_test_split, cross_val_score\n",
        "from sklearn.preprocessing  import StandardScaler, OneHotEncoder\n",
        "from sklearn.linear_model   import LogisticRegression\n",
        "from sklearn.ensemble       import RandomForestClassifier\n",
        "from sklearn.metrics        import (\n",
        "    confusion_matrix,\n",
        "    classification_report,\n",
        "    roc_auc_score,\n",
        "    precision_recall_curve,\n",
        "    roc_curve,\n",
        "    auc\n",
        ")\n",
        "from imblearn.over_sampling import SMOTE\n",
        "\n"
      ]
    },
    {
      "cell_type": "markdown",
      "source": [
        "O arquivo esta em formato comma separated values (CSV), por isso foi utilizado uma função do pandas pandas_csv."
      ],
      "metadata": {
        "id": "msderiG6Q3Uw"
      }
    },
    {
      "cell_type": "code",
      "execution_count": 44,
      "metadata": {
        "id": "_KxOadNLA9Gg"
      },
      "outputs": [],
      "source": [
        "dados = pd.read_csv('https://raw.githubusercontent.com/JessePMelo/TelecomX_Regressao_Machine/refs/heads/main/dados_normalizados.csv')"
      ]
    },
    {
      "cell_type": "markdown",
      "source": [
        "####Inspeção do DF"
      ],
      "metadata": {
        "id": "2XROI3qlSkkr"
      }
    },
    {
      "cell_type": "markdown",
      "source": [
        "Analise da estrutura dos dados colunas e linhas."
      ],
      "metadata": {
        "id": "-1JRQPfkRH95"
      }
    },
    {
      "cell_type": "code",
      "execution_count": 45,
      "metadata": {
        "colab": {
          "base_uri": "https://localhost:8080/",
          "height": 342
        },
        "id": "HtGKGnAlBBAF",
        "outputId": "df497235-e6fc-43a7-b915-23bd99be3821"
      },
      "outputs": [
        {
          "output_type": "execute_result",
          "data": {
            "text/plain": [
              "   ID_Cliente Cancelou  Genero  Idoso Possui_Conjuge Possui_Dependentes  \\\n",
              "0  0002-ORFBO       No  Female      0            Yes                Yes   \n",
              "1  0003-MKNFE       No    Male      0             No                 No   \n",
              "2  0004-TLHLJ      Yes    Male      0             No                 No   \n",
              "3  0011-IGKFF      Yes    Male      1            Yes                 No   \n",
              "4  0013-EXCHZ      Yes  Female      1            Yes                 No   \n",
              "\n",
              "   Meses_Contrato Telefone_Ativo Multiplas_Linhas Tipo_Internet  ...  \\\n",
              "0               9            Yes               No           DSL  ...   \n",
              "1               9            Yes              Yes           DSL  ...   \n",
              "2               4            Yes               No   Fiber optic  ...   \n",
              "3              13            Yes               No   Fiber optic  ...   \n",
              "4               3            Yes               No   Fiber optic  ...   \n",
              "\n",
              "  Backup_Online Protecao_Aparelho Suporte_Tecnico Streaming_TV  \\\n",
              "0           Yes                No             Yes          Yes   \n",
              "1            No                No              No           No   \n",
              "2            No               Yes              No           No   \n",
              "3           Yes               Yes              No          Yes   \n",
              "4            No                No             Yes          Yes   \n",
              "\n",
              "  Streaming_Filmes   Tipo_Contrato Fatura_Papel  Metodo_Pagamento  \\\n",
              "0               No        One year          Yes      Mailed check   \n",
              "1              Yes  Month-to-month           No      Mailed check   \n",
              "2               No  Month-to-month          Yes  Electronic check   \n",
              "3              Yes  Month-to-month          Yes  Electronic check   \n",
              "4               No  Month-to-month          Yes      Mailed check   \n",
              "\n",
              "  Cobranca_Mensal  Cobranca_Total  \n",
              "0            65.6           593.3  \n",
              "1            59.9           542.4  \n",
              "2            73.9          280.85  \n",
              "3            98.0         1237.85  \n",
              "4            83.9           267.4  \n",
              "\n",
              "[5 rows x 21 columns]"
            ],
            "text/html": [
              "\n",
              "  <div id=\"df-79076437-7b3e-4790-a336-c482a53217e4\" class=\"colab-df-container\">\n",
              "    <div>\n",
              "<style scoped>\n",
              "    .dataframe tbody tr th:only-of-type {\n",
              "        vertical-align: middle;\n",
              "    }\n",
              "\n",
              "    .dataframe tbody tr th {\n",
              "        vertical-align: top;\n",
              "    }\n",
              "\n",
              "    .dataframe thead th {\n",
              "        text-align: right;\n",
              "    }\n",
              "</style>\n",
              "<table border=\"1\" class=\"dataframe\">\n",
              "  <thead>\n",
              "    <tr style=\"text-align: right;\">\n",
              "      <th></th>\n",
              "      <th>ID_Cliente</th>\n",
              "      <th>Cancelou</th>\n",
              "      <th>Genero</th>\n",
              "      <th>Idoso</th>\n",
              "      <th>Possui_Conjuge</th>\n",
              "      <th>Possui_Dependentes</th>\n",
              "      <th>Meses_Contrato</th>\n",
              "      <th>Telefone_Ativo</th>\n",
              "      <th>Multiplas_Linhas</th>\n",
              "      <th>Tipo_Internet</th>\n",
              "      <th>...</th>\n",
              "      <th>Backup_Online</th>\n",
              "      <th>Protecao_Aparelho</th>\n",
              "      <th>Suporte_Tecnico</th>\n",
              "      <th>Streaming_TV</th>\n",
              "      <th>Streaming_Filmes</th>\n",
              "      <th>Tipo_Contrato</th>\n",
              "      <th>Fatura_Papel</th>\n",
              "      <th>Metodo_Pagamento</th>\n",
              "      <th>Cobranca_Mensal</th>\n",
              "      <th>Cobranca_Total</th>\n",
              "    </tr>\n",
              "  </thead>\n",
              "  <tbody>\n",
              "    <tr>\n",
              "      <th>0</th>\n",
              "      <td>0002-ORFBO</td>\n",
              "      <td>No</td>\n",
              "      <td>Female</td>\n",
              "      <td>0</td>\n",
              "      <td>Yes</td>\n",
              "      <td>Yes</td>\n",
              "      <td>9</td>\n",
              "      <td>Yes</td>\n",
              "      <td>No</td>\n",
              "      <td>DSL</td>\n",
              "      <td>...</td>\n",
              "      <td>Yes</td>\n",
              "      <td>No</td>\n",
              "      <td>Yes</td>\n",
              "      <td>Yes</td>\n",
              "      <td>No</td>\n",
              "      <td>One year</td>\n",
              "      <td>Yes</td>\n",
              "      <td>Mailed check</td>\n",
              "      <td>65.6</td>\n",
              "      <td>593.3</td>\n",
              "    </tr>\n",
              "    <tr>\n",
              "      <th>1</th>\n",
              "      <td>0003-MKNFE</td>\n",
              "      <td>No</td>\n",
              "      <td>Male</td>\n",
              "      <td>0</td>\n",
              "      <td>No</td>\n",
              "      <td>No</td>\n",
              "      <td>9</td>\n",
              "      <td>Yes</td>\n",
              "      <td>Yes</td>\n",
              "      <td>DSL</td>\n",
              "      <td>...</td>\n",
              "      <td>No</td>\n",
              "      <td>No</td>\n",
              "      <td>No</td>\n",
              "      <td>No</td>\n",
              "      <td>Yes</td>\n",
              "      <td>Month-to-month</td>\n",
              "      <td>No</td>\n",
              "      <td>Mailed check</td>\n",
              "      <td>59.9</td>\n",
              "      <td>542.4</td>\n",
              "    </tr>\n",
              "    <tr>\n",
              "      <th>2</th>\n",
              "      <td>0004-TLHLJ</td>\n",
              "      <td>Yes</td>\n",
              "      <td>Male</td>\n",
              "      <td>0</td>\n",
              "      <td>No</td>\n",
              "      <td>No</td>\n",
              "      <td>4</td>\n",
              "      <td>Yes</td>\n",
              "      <td>No</td>\n",
              "      <td>Fiber optic</td>\n",
              "      <td>...</td>\n",
              "      <td>No</td>\n",
              "      <td>Yes</td>\n",
              "      <td>No</td>\n",
              "      <td>No</td>\n",
              "      <td>No</td>\n",
              "      <td>Month-to-month</td>\n",
              "      <td>Yes</td>\n",
              "      <td>Electronic check</td>\n",
              "      <td>73.9</td>\n",
              "      <td>280.85</td>\n",
              "    </tr>\n",
              "    <tr>\n",
              "      <th>3</th>\n",
              "      <td>0011-IGKFF</td>\n",
              "      <td>Yes</td>\n",
              "      <td>Male</td>\n",
              "      <td>1</td>\n",
              "      <td>Yes</td>\n",
              "      <td>No</td>\n",
              "      <td>13</td>\n",
              "      <td>Yes</td>\n",
              "      <td>No</td>\n",
              "      <td>Fiber optic</td>\n",
              "      <td>...</td>\n",
              "      <td>Yes</td>\n",
              "      <td>Yes</td>\n",
              "      <td>No</td>\n",
              "      <td>Yes</td>\n",
              "      <td>Yes</td>\n",
              "      <td>Month-to-month</td>\n",
              "      <td>Yes</td>\n",
              "      <td>Electronic check</td>\n",
              "      <td>98.0</td>\n",
              "      <td>1237.85</td>\n",
              "    </tr>\n",
              "    <tr>\n",
              "      <th>4</th>\n",
              "      <td>0013-EXCHZ</td>\n",
              "      <td>Yes</td>\n",
              "      <td>Female</td>\n",
              "      <td>1</td>\n",
              "      <td>Yes</td>\n",
              "      <td>No</td>\n",
              "      <td>3</td>\n",
              "      <td>Yes</td>\n",
              "      <td>No</td>\n",
              "      <td>Fiber optic</td>\n",
              "      <td>...</td>\n",
              "      <td>No</td>\n",
              "      <td>No</td>\n",
              "      <td>Yes</td>\n",
              "      <td>Yes</td>\n",
              "      <td>No</td>\n",
              "      <td>Month-to-month</td>\n",
              "      <td>Yes</td>\n",
              "      <td>Mailed check</td>\n",
              "      <td>83.9</td>\n",
              "      <td>267.4</td>\n",
              "    </tr>\n",
              "  </tbody>\n",
              "</table>\n",
              "<p>5 rows × 21 columns</p>\n",
              "</div>\n",
              "    <div class=\"colab-df-buttons\">\n",
              "\n",
              "  <div class=\"colab-df-container\">\n",
              "    <button class=\"colab-df-convert\" onclick=\"convertToInteractive('df-79076437-7b3e-4790-a336-c482a53217e4')\"\n",
              "            title=\"Convert this dataframe to an interactive table.\"\n",
              "            style=\"display:none;\">\n",
              "\n",
              "  <svg xmlns=\"http://www.w3.org/2000/svg\" height=\"24px\" viewBox=\"0 -960 960 960\">\n",
              "    <path d=\"M120-120v-720h720v720H120Zm60-500h600v-160H180v160Zm220 220h160v-160H400v160Zm0 220h160v-160H400v160ZM180-400h160v-160H180v160Zm440 0h160v-160H620v160ZM180-180h160v-160H180v160Zm440 0h160v-160H620v160Z\"/>\n",
              "  </svg>\n",
              "    </button>\n",
              "\n",
              "  <style>\n",
              "    .colab-df-container {\n",
              "      display:flex;\n",
              "      gap: 12px;\n",
              "    }\n",
              "\n",
              "    .colab-df-convert {\n",
              "      background-color: #E8F0FE;\n",
              "      border: none;\n",
              "      border-radius: 50%;\n",
              "      cursor: pointer;\n",
              "      display: none;\n",
              "      fill: #1967D2;\n",
              "      height: 32px;\n",
              "      padding: 0 0 0 0;\n",
              "      width: 32px;\n",
              "    }\n",
              "\n",
              "    .colab-df-convert:hover {\n",
              "      background-color: #E2EBFA;\n",
              "      box-shadow: 0px 1px 2px rgba(60, 64, 67, 0.3), 0px 1px 3px 1px rgba(60, 64, 67, 0.15);\n",
              "      fill: #174EA6;\n",
              "    }\n",
              "\n",
              "    .colab-df-buttons div {\n",
              "      margin-bottom: 4px;\n",
              "    }\n",
              "\n",
              "    [theme=dark] .colab-df-convert {\n",
              "      background-color: #3B4455;\n",
              "      fill: #D2E3FC;\n",
              "    }\n",
              "\n",
              "    [theme=dark] .colab-df-convert:hover {\n",
              "      background-color: #434B5C;\n",
              "      box-shadow: 0px 1px 3px 1px rgba(0, 0, 0, 0.15);\n",
              "      filter: drop-shadow(0px 1px 2px rgba(0, 0, 0, 0.3));\n",
              "      fill: #FFFFFF;\n",
              "    }\n",
              "  </style>\n",
              "\n",
              "    <script>\n",
              "      const buttonEl =\n",
              "        document.querySelector('#df-79076437-7b3e-4790-a336-c482a53217e4 button.colab-df-convert');\n",
              "      buttonEl.style.display =\n",
              "        google.colab.kernel.accessAllowed ? 'block' : 'none';\n",
              "\n",
              "      async function convertToInteractive(key) {\n",
              "        const element = document.querySelector('#df-79076437-7b3e-4790-a336-c482a53217e4');\n",
              "        const dataTable =\n",
              "          await google.colab.kernel.invokeFunction('convertToInteractive',\n",
              "                                                    [key], {});\n",
              "        if (!dataTable) return;\n",
              "\n",
              "        const docLinkHtml = 'Like what you see? Visit the ' +\n",
              "          '<a target=\"_blank\" href=https://colab.research.google.com/notebooks/data_table.ipynb>data table notebook</a>'\n",
              "          + ' to learn more about interactive tables.';\n",
              "        element.innerHTML = '';\n",
              "        dataTable['output_type'] = 'display_data';\n",
              "        await google.colab.output.renderOutput(dataTable, element);\n",
              "        const docLink = document.createElement('div');\n",
              "        docLink.innerHTML = docLinkHtml;\n",
              "        element.appendChild(docLink);\n",
              "      }\n",
              "    </script>\n",
              "  </div>\n",
              "\n",
              "\n",
              "    <div id=\"df-25b2adc4-e265-4bc3-8f67-963270245e16\">\n",
              "      <button class=\"colab-df-quickchart\" onclick=\"quickchart('df-25b2adc4-e265-4bc3-8f67-963270245e16')\"\n",
              "                title=\"Suggest charts\"\n",
              "                style=\"display:none;\">\n",
              "\n",
              "<svg xmlns=\"http://www.w3.org/2000/svg\" height=\"24px\"viewBox=\"0 0 24 24\"\n",
              "     width=\"24px\">\n",
              "    <g>\n",
              "        <path d=\"M19 3H5c-1.1 0-2 .9-2 2v14c0 1.1.9 2 2 2h14c1.1 0 2-.9 2-2V5c0-1.1-.9-2-2-2zM9 17H7v-7h2v7zm4 0h-2V7h2v10zm4 0h-2v-4h2v4z\"/>\n",
              "    </g>\n",
              "</svg>\n",
              "      </button>\n",
              "\n",
              "<style>\n",
              "  .colab-df-quickchart {\n",
              "      --bg-color: #E8F0FE;\n",
              "      --fill-color: #1967D2;\n",
              "      --hover-bg-color: #E2EBFA;\n",
              "      --hover-fill-color: #174EA6;\n",
              "      --disabled-fill-color: #AAA;\n",
              "      --disabled-bg-color: #DDD;\n",
              "  }\n",
              "\n",
              "  [theme=dark] .colab-df-quickchart {\n",
              "      --bg-color: #3B4455;\n",
              "      --fill-color: #D2E3FC;\n",
              "      --hover-bg-color: #434B5C;\n",
              "      --hover-fill-color: #FFFFFF;\n",
              "      --disabled-bg-color: #3B4455;\n",
              "      --disabled-fill-color: #666;\n",
              "  }\n",
              "\n",
              "  .colab-df-quickchart {\n",
              "    background-color: var(--bg-color);\n",
              "    border: none;\n",
              "    border-radius: 50%;\n",
              "    cursor: pointer;\n",
              "    display: none;\n",
              "    fill: var(--fill-color);\n",
              "    height: 32px;\n",
              "    padding: 0;\n",
              "    width: 32px;\n",
              "  }\n",
              "\n",
              "  .colab-df-quickchart:hover {\n",
              "    background-color: var(--hover-bg-color);\n",
              "    box-shadow: 0 1px 2px rgba(60, 64, 67, 0.3), 0 1px 3px 1px rgba(60, 64, 67, 0.15);\n",
              "    fill: var(--button-hover-fill-color);\n",
              "  }\n",
              "\n",
              "  .colab-df-quickchart-complete:disabled,\n",
              "  .colab-df-quickchart-complete:disabled:hover {\n",
              "    background-color: var(--disabled-bg-color);\n",
              "    fill: var(--disabled-fill-color);\n",
              "    box-shadow: none;\n",
              "  }\n",
              "\n",
              "  .colab-df-spinner {\n",
              "    border: 2px solid var(--fill-color);\n",
              "    border-color: transparent;\n",
              "    border-bottom-color: var(--fill-color);\n",
              "    animation:\n",
              "      spin 1s steps(1) infinite;\n",
              "  }\n",
              "\n",
              "  @keyframes spin {\n",
              "    0% {\n",
              "      border-color: transparent;\n",
              "      border-bottom-color: var(--fill-color);\n",
              "      border-left-color: var(--fill-color);\n",
              "    }\n",
              "    20% {\n",
              "      border-color: transparent;\n",
              "      border-left-color: var(--fill-color);\n",
              "      border-top-color: var(--fill-color);\n",
              "    }\n",
              "    30% {\n",
              "      border-color: transparent;\n",
              "      border-left-color: var(--fill-color);\n",
              "      border-top-color: var(--fill-color);\n",
              "      border-right-color: var(--fill-color);\n",
              "    }\n",
              "    40% {\n",
              "      border-color: transparent;\n",
              "      border-right-color: var(--fill-color);\n",
              "      border-top-color: var(--fill-color);\n",
              "    }\n",
              "    60% {\n",
              "      border-color: transparent;\n",
              "      border-right-color: var(--fill-color);\n",
              "    }\n",
              "    80% {\n",
              "      border-color: transparent;\n",
              "      border-right-color: var(--fill-color);\n",
              "      border-bottom-color: var(--fill-color);\n",
              "    }\n",
              "    90% {\n",
              "      border-color: transparent;\n",
              "      border-bottom-color: var(--fill-color);\n",
              "    }\n",
              "  }\n",
              "</style>\n",
              "\n",
              "      <script>\n",
              "        async function quickchart(key) {\n",
              "          const quickchartButtonEl =\n",
              "            document.querySelector('#' + key + ' button');\n",
              "          quickchartButtonEl.disabled = true;  // To prevent multiple clicks.\n",
              "          quickchartButtonEl.classList.add('colab-df-spinner');\n",
              "          try {\n",
              "            const charts = await google.colab.kernel.invokeFunction(\n",
              "                'suggestCharts', [key], {});\n",
              "          } catch (error) {\n",
              "            console.error('Error during call to suggestCharts:', error);\n",
              "          }\n",
              "          quickchartButtonEl.classList.remove('colab-df-spinner');\n",
              "          quickchartButtonEl.classList.add('colab-df-quickchart-complete');\n",
              "        }\n",
              "        (() => {\n",
              "          let quickchartButtonEl =\n",
              "            document.querySelector('#df-25b2adc4-e265-4bc3-8f67-963270245e16 button');\n",
              "          quickchartButtonEl.style.display =\n",
              "            google.colab.kernel.accessAllowed ? 'block' : 'none';\n",
              "        })();\n",
              "      </script>\n",
              "    </div>\n",
              "\n",
              "    </div>\n",
              "  </div>\n"
            ],
            "application/vnd.google.colaboratory.intrinsic+json": {
              "type": "dataframe",
              "variable_name": "dados"
            }
          },
          "metadata": {},
          "execution_count": 45
        }
      ],
      "source": [
        "dados.head(5)"
      ]
    },
    {
      "cell_type": "markdown",
      "metadata": {
        "id": "oKBM2MDgGe0a"
      },
      "source": [
        "A coluna ID_Cliente são apenas identificadores unicos (ID) e não tem necessidade de permanecer no projeto."
      ]
    },
    {
      "cell_type": "code",
      "execution_count": 46,
      "metadata": {
        "id": "dPTTcsOlBSZ-"
      },
      "outputs": [],
      "source": [
        "dados = dados.drop('ID_Cliente', axis=1)"
      ]
    },
    {
      "cell_type": "markdown",
      "source": [
        "Inspeção do DF"
      ],
      "metadata": {
        "id": "NlziJEoTSJQc"
      }
    },
    {
      "cell_type": "markdown",
      "source": [
        "Conferindo nomes das colunas, tamanho do DF e quais os tipos de dados as colunas contem."
      ],
      "metadata": {
        "id": "dykckSv5S6r3"
      }
    },
    {
      "cell_type": "code",
      "execution_count": 47,
      "metadata": {
        "colab": {
          "base_uri": "https://localhost:8080/",
          "height": 296
        },
        "id": "M27mzyAtBu8Y",
        "outputId": "8f990ff3-6419-468c-c389-d119a969601a"
      },
      "outputs": [
        {
          "output_type": "execute_result",
          "data": {
            "text/plain": [
              "  Cancelou  Genero  Idoso Possui_Conjuge Possui_Dependentes  Meses_Contrato  \\\n",
              "0       No  Female      0            Yes                Yes               9   \n",
              "1       No    Male      0             No                 No               9   \n",
              "2      Yes    Male      0             No                 No               4   \n",
              "3      Yes    Male      1            Yes                 No              13   \n",
              "4      Yes  Female      1            Yes                 No               3   \n",
              "\n",
              "  Telefone_Ativo Multiplas_Linhas Tipo_Internet Seguranca_Online  \\\n",
              "0            Yes               No           DSL               No   \n",
              "1            Yes              Yes           DSL               No   \n",
              "2            Yes               No   Fiber optic               No   \n",
              "3            Yes               No   Fiber optic               No   \n",
              "4            Yes               No   Fiber optic               No   \n",
              "\n",
              "  Backup_Online Protecao_Aparelho Suporte_Tecnico Streaming_TV  \\\n",
              "0           Yes                No             Yes          Yes   \n",
              "1            No                No              No           No   \n",
              "2            No               Yes              No           No   \n",
              "3           Yes               Yes              No          Yes   \n",
              "4            No                No             Yes          Yes   \n",
              "\n",
              "  Streaming_Filmes   Tipo_Contrato Fatura_Papel  Metodo_Pagamento  \\\n",
              "0               No        One year          Yes      Mailed check   \n",
              "1              Yes  Month-to-month           No      Mailed check   \n",
              "2               No  Month-to-month          Yes  Electronic check   \n",
              "3              Yes  Month-to-month          Yes  Electronic check   \n",
              "4               No  Month-to-month          Yes      Mailed check   \n",
              "\n",
              "   Cobranca_Mensal Cobranca_Total  \n",
              "0             65.6          593.3  \n",
              "1             59.9          542.4  \n",
              "2             73.9         280.85  \n",
              "3             98.0        1237.85  \n",
              "4             83.9          267.4  "
            ],
            "text/html": [
              "\n",
              "  <div id=\"df-a81c1e1f-993b-465c-ae4c-f1bda2f89f21\" class=\"colab-df-container\">\n",
              "    <div>\n",
              "<style scoped>\n",
              "    .dataframe tbody tr th:only-of-type {\n",
              "        vertical-align: middle;\n",
              "    }\n",
              "\n",
              "    .dataframe tbody tr th {\n",
              "        vertical-align: top;\n",
              "    }\n",
              "\n",
              "    .dataframe thead th {\n",
              "        text-align: right;\n",
              "    }\n",
              "</style>\n",
              "<table border=\"1\" class=\"dataframe\">\n",
              "  <thead>\n",
              "    <tr style=\"text-align: right;\">\n",
              "      <th></th>\n",
              "      <th>Cancelou</th>\n",
              "      <th>Genero</th>\n",
              "      <th>Idoso</th>\n",
              "      <th>Possui_Conjuge</th>\n",
              "      <th>Possui_Dependentes</th>\n",
              "      <th>Meses_Contrato</th>\n",
              "      <th>Telefone_Ativo</th>\n",
              "      <th>Multiplas_Linhas</th>\n",
              "      <th>Tipo_Internet</th>\n",
              "      <th>Seguranca_Online</th>\n",
              "      <th>Backup_Online</th>\n",
              "      <th>Protecao_Aparelho</th>\n",
              "      <th>Suporte_Tecnico</th>\n",
              "      <th>Streaming_TV</th>\n",
              "      <th>Streaming_Filmes</th>\n",
              "      <th>Tipo_Contrato</th>\n",
              "      <th>Fatura_Papel</th>\n",
              "      <th>Metodo_Pagamento</th>\n",
              "      <th>Cobranca_Mensal</th>\n",
              "      <th>Cobranca_Total</th>\n",
              "    </tr>\n",
              "  </thead>\n",
              "  <tbody>\n",
              "    <tr>\n",
              "      <th>0</th>\n",
              "      <td>No</td>\n",
              "      <td>Female</td>\n",
              "      <td>0</td>\n",
              "      <td>Yes</td>\n",
              "      <td>Yes</td>\n",
              "      <td>9</td>\n",
              "      <td>Yes</td>\n",
              "      <td>No</td>\n",
              "      <td>DSL</td>\n",
              "      <td>No</td>\n",
              "      <td>Yes</td>\n",
              "      <td>No</td>\n",
              "      <td>Yes</td>\n",
              "      <td>Yes</td>\n",
              "      <td>No</td>\n",
              "      <td>One year</td>\n",
              "      <td>Yes</td>\n",
              "      <td>Mailed check</td>\n",
              "      <td>65.6</td>\n",
              "      <td>593.3</td>\n",
              "    </tr>\n",
              "    <tr>\n",
              "      <th>1</th>\n",
              "      <td>No</td>\n",
              "      <td>Male</td>\n",
              "      <td>0</td>\n",
              "      <td>No</td>\n",
              "      <td>No</td>\n",
              "      <td>9</td>\n",
              "      <td>Yes</td>\n",
              "      <td>Yes</td>\n",
              "      <td>DSL</td>\n",
              "      <td>No</td>\n",
              "      <td>No</td>\n",
              "      <td>No</td>\n",
              "      <td>No</td>\n",
              "      <td>No</td>\n",
              "      <td>Yes</td>\n",
              "      <td>Month-to-month</td>\n",
              "      <td>No</td>\n",
              "      <td>Mailed check</td>\n",
              "      <td>59.9</td>\n",
              "      <td>542.4</td>\n",
              "    </tr>\n",
              "    <tr>\n",
              "      <th>2</th>\n",
              "      <td>Yes</td>\n",
              "      <td>Male</td>\n",
              "      <td>0</td>\n",
              "      <td>No</td>\n",
              "      <td>No</td>\n",
              "      <td>4</td>\n",
              "      <td>Yes</td>\n",
              "      <td>No</td>\n",
              "      <td>Fiber optic</td>\n",
              "      <td>No</td>\n",
              "      <td>No</td>\n",
              "      <td>Yes</td>\n",
              "      <td>No</td>\n",
              "      <td>No</td>\n",
              "      <td>No</td>\n",
              "      <td>Month-to-month</td>\n",
              "      <td>Yes</td>\n",
              "      <td>Electronic check</td>\n",
              "      <td>73.9</td>\n",
              "      <td>280.85</td>\n",
              "    </tr>\n",
              "    <tr>\n",
              "      <th>3</th>\n",
              "      <td>Yes</td>\n",
              "      <td>Male</td>\n",
              "      <td>1</td>\n",
              "      <td>Yes</td>\n",
              "      <td>No</td>\n",
              "      <td>13</td>\n",
              "      <td>Yes</td>\n",
              "      <td>No</td>\n",
              "      <td>Fiber optic</td>\n",
              "      <td>No</td>\n",
              "      <td>Yes</td>\n",
              "      <td>Yes</td>\n",
              "      <td>No</td>\n",
              "      <td>Yes</td>\n",
              "      <td>Yes</td>\n",
              "      <td>Month-to-month</td>\n",
              "      <td>Yes</td>\n",
              "      <td>Electronic check</td>\n",
              "      <td>98.0</td>\n",
              "      <td>1237.85</td>\n",
              "    </tr>\n",
              "    <tr>\n",
              "      <th>4</th>\n",
              "      <td>Yes</td>\n",
              "      <td>Female</td>\n",
              "      <td>1</td>\n",
              "      <td>Yes</td>\n",
              "      <td>No</td>\n",
              "      <td>3</td>\n",
              "      <td>Yes</td>\n",
              "      <td>No</td>\n",
              "      <td>Fiber optic</td>\n",
              "      <td>No</td>\n",
              "      <td>No</td>\n",
              "      <td>No</td>\n",
              "      <td>Yes</td>\n",
              "      <td>Yes</td>\n",
              "      <td>No</td>\n",
              "      <td>Month-to-month</td>\n",
              "      <td>Yes</td>\n",
              "      <td>Mailed check</td>\n",
              "      <td>83.9</td>\n",
              "      <td>267.4</td>\n",
              "    </tr>\n",
              "  </tbody>\n",
              "</table>\n",
              "</div>\n",
              "    <div class=\"colab-df-buttons\">\n",
              "\n",
              "  <div class=\"colab-df-container\">\n",
              "    <button class=\"colab-df-convert\" onclick=\"convertToInteractive('df-a81c1e1f-993b-465c-ae4c-f1bda2f89f21')\"\n",
              "            title=\"Convert this dataframe to an interactive table.\"\n",
              "            style=\"display:none;\">\n",
              "\n",
              "  <svg xmlns=\"http://www.w3.org/2000/svg\" height=\"24px\" viewBox=\"0 -960 960 960\">\n",
              "    <path d=\"M120-120v-720h720v720H120Zm60-500h600v-160H180v160Zm220 220h160v-160H400v160Zm0 220h160v-160H400v160ZM180-400h160v-160H180v160Zm440 0h160v-160H620v160ZM180-180h160v-160H180v160Zm440 0h160v-160H620v160Z\"/>\n",
              "  </svg>\n",
              "    </button>\n",
              "\n",
              "  <style>\n",
              "    .colab-df-container {\n",
              "      display:flex;\n",
              "      gap: 12px;\n",
              "    }\n",
              "\n",
              "    .colab-df-convert {\n",
              "      background-color: #E8F0FE;\n",
              "      border: none;\n",
              "      border-radius: 50%;\n",
              "      cursor: pointer;\n",
              "      display: none;\n",
              "      fill: #1967D2;\n",
              "      height: 32px;\n",
              "      padding: 0 0 0 0;\n",
              "      width: 32px;\n",
              "    }\n",
              "\n",
              "    .colab-df-convert:hover {\n",
              "      background-color: #E2EBFA;\n",
              "      box-shadow: 0px 1px 2px rgba(60, 64, 67, 0.3), 0px 1px 3px 1px rgba(60, 64, 67, 0.15);\n",
              "      fill: #174EA6;\n",
              "    }\n",
              "\n",
              "    .colab-df-buttons div {\n",
              "      margin-bottom: 4px;\n",
              "    }\n",
              "\n",
              "    [theme=dark] .colab-df-convert {\n",
              "      background-color: #3B4455;\n",
              "      fill: #D2E3FC;\n",
              "    }\n",
              "\n",
              "    [theme=dark] .colab-df-convert:hover {\n",
              "      background-color: #434B5C;\n",
              "      box-shadow: 0px 1px 3px 1px rgba(0, 0, 0, 0.15);\n",
              "      filter: drop-shadow(0px 1px 2px rgba(0, 0, 0, 0.3));\n",
              "      fill: #FFFFFF;\n",
              "    }\n",
              "  </style>\n",
              "\n",
              "    <script>\n",
              "      const buttonEl =\n",
              "        document.querySelector('#df-a81c1e1f-993b-465c-ae4c-f1bda2f89f21 button.colab-df-convert');\n",
              "      buttonEl.style.display =\n",
              "        google.colab.kernel.accessAllowed ? 'block' : 'none';\n",
              "\n",
              "      async function convertToInteractive(key) {\n",
              "        const element = document.querySelector('#df-a81c1e1f-993b-465c-ae4c-f1bda2f89f21');\n",
              "        const dataTable =\n",
              "          await google.colab.kernel.invokeFunction('convertToInteractive',\n",
              "                                                    [key], {});\n",
              "        if (!dataTable) return;\n",
              "\n",
              "        const docLinkHtml = 'Like what you see? Visit the ' +\n",
              "          '<a target=\"_blank\" href=https://colab.research.google.com/notebooks/data_table.ipynb>data table notebook</a>'\n",
              "          + ' to learn more about interactive tables.';\n",
              "        element.innerHTML = '';\n",
              "        dataTable['output_type'] = 'display_data';\n",
              "        await google.colab.output.renderOutput(dataTable, element);\n",
              "        const docLink = document.createElement('div');\n",
              "        docLink.innerHTML = docLinkHtml;\n",
              "        element.appendChild(docLink);\n",
              "      }\n",
              "    </script>\n",
              "  </div>\n",
              "\n",
              "\n",
              "    <div id=\"df-07099066-1ab4-4f1a-ab6a-5c7760707a9b\">\n",
              "      <button class=\"colab-df-quickchart\" onclick=\"quickchart('df-07099066-1ab4-4f1a-ab6a-5c7760707a9b')\"\n",
              "                title=\"Suggest charts\"\n",
              "                style=\"display:none;\">\n",
              "\n",
              "<svg xmlns=\"http://www.w3.org/2000/svg\" height=\"24px\"viewBox=\"0 0 24 24\"\n",
              "     width=\"24px\">\n",
              "    <g>\n",
              "        <path d=\"M19 3H5c-1.1 0-2 .9-2 2v14c0 1.1.9 2 2 2h14c1.1 0 2-.9 2-2V5c0-1.1-.9-2-2-2zM9 17H7v-7h2v7zm4 0h-2V7h2v10zm4 0h-2v-4h2v4z\"/>\n",
              "    </g>\n",
              "</svg>\n",
              "      </button>\n",
              "\n",
              "<style>\n",
              "  .colab-df-quickchart {\n",
              "      --bg-color: #E8F0FE;\n",
              "      --fill-color: #1967D2;\n",
              "      --hover-bg-color: #E2EBFA;\n",
              "      --hover-fill-color: #174EA6;\n",
              "      --disabled-fill-color: #AAA;\n",
              "      --disabled-bg-color: #DDD;\n",
              "  }\n",
              "\n",
              "  [theme=dark] .colab-df-quickchart {\n",
              "      --bg-color: #3B4455;\n",
              "      --fill-color: #D2E3FC;\n",
              "      --hover-bg-color: #434B5C;\n",
              "      --hover-fill-color: #FFFFFF;\n",
              "      --disabled-bg-color: #3B4455;\n",
              "      --disabled-fill-color: #666;\n",
              "  }\n",
              "\n",
              "  .colab-df-quickchart {\n",
              "    background-color: var(--bg-color);\n",
              "    border: none;\n",
              "    border-radius: 50%;\n",
              "    cursor: pointer;\n",
              "    display: none;\n",
              "    fill: var(--fill-color);\n",
              "    height: 32px;\n",
              "    padding: 0;\n",
              "    width: 32px;\n",
              "  }\n",
              "\n",
              "  .colab-df-quickchart:hover {\n",
              "    background-color: var(--hover-bg-color);\n",
              "    box-shadow: 0 1px 2px rgba(60, 64, 67, 0.3), 0 1px 3px 1px rgba(60, 64, 67, 0.15);\n",
              "    fill: var(--button-hover-fill-color);\n",
              "  }\n",
              "\n",
              "  .colab-df-quickchart-complete:disabled,\n",
              "  .colab-df-quickchart-complete:disabled:hover {\n",
              "    background-color: var(--disabled-bg-color);\n",
              "    fill: var(--disabled-fill-color);\n",
              "    box-shadow: none;\n",
              "  }\n",
              "\n",
              "  .colab-df-spinner {\n",
              "    border: 2px solid var(--fill-color);\n",
              "    border-color: transparent;\n",
              "    border-bottom-color: var(--fill-color);\n",
              "    animation:\n",
              "      spin 1s steps(1) infinite;\n",
              "  }\n",
              "\n",
              "  @keyframes spin {\n",
              "    0% {\n",
              "      border-color: transparent;\n",
              "      border-bottom-color: var(--fill-color);\n",
              "      border-left-color: var(--fill-color);\n",
              "    }\n",
              "    20% {\n",
              "      border-color: transparent;\n",
              "      border-left-color: var(--fill-color);\n",
              "      border-top-color: var(--fill-color);\n",
              "    }\n",
              "    30% {\n",
              "      border-color: transparent;\n",
              "      border-left-color: var(--fill-color);\n",
              "      border-top-color: var(--fill-color);\n",
              "      border-right-color: var(--fill-color);\n",
              "    }\n",
              "    40% {\n",
              "      border-color: transparent;\n",
              "      border-right-color: var(--fill-color);\n",
              "      border-top-color: var(--fill-color);\n",
              "    }\n",
              "    60% {\n",
              "      border-color: transparent;\n",
              "      border-right-color: var(--fill-color);\n",
              "    }\n",
              "    80% {\n",
              "      border-color: transparent;\n",
              "      border-right-color: var(--fill-color);\n",
              "      border-bottom-color: var(--fill-color);\n",
              "    }\n",
              "    90% {\n",
              "      border-color: transparent;\n",
              "      border-bottom-color: var(--fill-color);\n",
              "    }\n",
              "  }\n",
              "</style>\n",
              "\n",
              "      <script>\n",
              "        async function quickchart(key) {\n",
              "          const quickchartButtonEl =\n",
              "            document.querySelector('#' + key + ' button');\n",
              "          quickchartButtonEl.disabled = true;  // To prevent multiple clicks.\n",
              "          quickchartButtonEl.classList.add('colab-df-spinner');\n",
              "          try {\n",
              "            const charts = await google.colab.kernel.invokeFunction(\n",
              "                'suggestCharts', [key], {});\n",
              "          } catch (error) {\n",
              "            console.error('Error during call to suggestCharts:', error);\n",
              "          }\n",
              "          quickchartButtonEl.classList.remove('colab-df-spinner');\n",
              "          quickchartButtonEl.classList.add('colab-df-quickchart-complete');\n",
              "        }\n",
              "        (() => {\n",
              "          let quickchartButtonEl =\n",
              "            document.querySelector('#df-07099066-1ab4-4f1a-ab6a-5c7760707a9b button');\n",
              "          quickchartButtonEl.style.display =\n",
              "            google.colab.kernel.accessAllowed ? 'block' : 'none';\n",
              "        })();\n",
              "      </script>\n",
              "    </div>\n",
              "\n",
              "    </div>\n",
              "  </div>\n"
            ],
            "application/vnd.google.colaboratory.intrinsic+json": {
              "type": "dataframe",
              "variable_name": "dados",
              "summary": "{\n  \"name\": \"dados\",\n  \"rows\": 7267,\n  \"fields\": [\n    {\n      \"column\": \"Cancelou\",\n      \"properties\": {\n        \"dtype\": \"category\",\n        \"num_unique_values\": 2,\n        \"samples\": [\n          \"Yes\",\n          \"No\"\n        ],\n        \"semantic_type\": \"\",\n        \"description\": \"\"\n      }\n    },\n    {\n      \"column\": \"Genero\",\n      \"properties\": {\n        \"dtype\": \"category\",\n        \"num_unique_values\": 2,\n        \"samples\": [\n          \"Male\",\n          \"Female\"\n        ],\n        \"semantic_type\": \"\",\n        \"description\": \"\"\n      }\n    },\n    {\n      \"column\": \"Idoso\",\n      \"properties\": {\n        \"dtype\": \"number\",\n        \"std\": 0,\n        \"min\": 0,\n        \"max\": 1,\n        \"num_unique_values\": 2,\n        \"samples\": [\n          1,\n          0\n        ],\n        \"semantic_type\": \"\",\n        \"description\": \"\"\n      }\n    },\n    {\n      \"column\": \"Possui_Conjuge\",\n      \"properties\": {\n        \"dtype\": \"category\",\n        \"num_unique_values\": 2,\n        \"samples\": [\n          \"No\",\n          \"Yes\"\n        ],\n        \"semantic_type\": \"\",\n        \"description\": \"\"\n      }\n    },\n    {\n      \"column\": \"Possui_Dependentes\",\n      \"properties\": {\n        \"dtype\": \"category\",\n        \"num_unique_values\": 2,\n        \"samples\": [\n          \"No\",\n          \"Yes\"\n        ],\n        \"semantic_type\": \"\",\n        \"description\": \"\"\n      }\n    },\n    {\n      \"column\": \"Meses_Contrato\",\n      \"properties\": {\n        \"dtype\": \"number\",\n        \"std\": 24,\n        \"min\": 0,\n        \"max\": 72,\n        \"num_unique_values\": 73,\n        \"samples\": [\n          71,\n          53\n        ],\n        \"semantic_type\": \"\",\n        \"description\": \"\"\n      }\n    },\n    {\n      \"column\": \"Telefone_Ativo\",\n      \"properties\": {\n        \"dtype\": \"category\",\n        \"num_unique_values\": 2,\n        \"samples\": [\n          \"No\",\n          \"Yes\"\n        ],\n        \"semantic_type\": \"\",\n        \"description\": \"\"\n      }\n    },\n    {\n      \"column\": \"Multiplas_Linhas\",\n      \"properties\": {\n        \"dtype\": \"category\",\n        \"num_unique_values\": 3,\n        \"samples\": [\n          \"No\",\n          \"Yes\"\n        ],\n        \"semantic_type\": \"\",\n        \"description\": \"\"\n      }\n    },\n    {\n      \"column\": \"Tipo_Internet\",\n      \"properties\": {\n        \"dtype\": \"category\",\n        \"num_unique_values\": 3,\n        \"samples\": [\n          \"DSL\",\n          \"Fiber optic\"\n        ],\n        \"semantic_type\": \"\",\n        \"description\": \"\"\n      }\n    },\n    {\n      \"column\": \"Seguranca_Online\",\n      \"properties\": {\n        \"dtype\": \"category\",\n        \"num_unique_values\": 3,\n        \"samples\": [\n          \"No\",\n          \"Yes\"\n        ],\n        \"semantic_type\": \"\",\n        \"description\": \"\"\n      }\n    },\n    {\n      \"column\": \"Backup_Online\",\n      \"properties\": {\n        \"dtype\": \"category\",\n        \"num_unique_values\": 3,\n        \"samples\": [\n          \"Yes\",\n          \"No\"\n        ],\n        \"semantic_type\": \"\",\n        \"description\": \"\"\n      }\n    },\n    {\n      \"column\": \"Protecao_Aparelho\",\n      \"properties\": {\n        \"dtype\": \"category\",\n        \"num_unique_values\": 3,\n        \"samples\": [\n          \"No\",\n          \"Yes\"\n        ],\n        \"semantic_type\": \"\",\n        \"description\": \"\"\n      }\n    },\n    {\n      \"column\": \"Suporte_Tecnico\",\n      \"properties\": {\n        \"dtype\": \"category\",\n        \"num_unique_values\": 3,\n        \"samples\": [\n          \"Yes\",\n          \"No\"\n        ],\n        \"semantic_type\": \"\",\n        \"description\": \"\"\n      }\n    },\n    {\n      \"column\": \"Streaming_TV\",\n      \"properties\": {\n        \"dtype\": \"category\",\n        \"num_unique_values\": 3,\n        \"samples\": [\n          \"Yes\",\n          \"No\"\n        ],\n        \"semantic_type\": \"\",\n        \"description\": \"\"\n      }\n    },\n    {\n      \"column\": \"Streaming_Filmes\",\n      \"properties\": {\n        \"dtype\": \"category\",\n        \"num_unique_values\": 3,\n        \"samples\": [\n          \"No\",\n          \"Yes\"\n        ],\n        \"semantic_type\": \"\",\n        \"description\": \"\"\n      }\n    },\n    {\n      \"column\": \"Tipo_Contrato\",\n      \"properties\": {\n        \"dtype\": \"category\",\n        \"num_unique_values\": 3,\n        \"samples\": [\n          \"One year\",\n          \"Month-to-month\"\n        ],\n        \"semantic_type\": \"\",\n        \"description\": \"\"\n      }\n    },\n    {\n      \"column\": \"Fatura_Papel\",\n      \"properties\": {\n        \"dtype\": \"category\",\n        \"num_unique_values\": 2,\n        \"samples\": [\n          \"No\",\n          \"Yes\"\n        ],\n        \"semantic_type\": \"\",\n        \"description\": \"\"\n      }\n    },\n    {\n      \"column\": \"Metodo_Pagamento\",\n      \"properties\": {\n        \"dtype\": \"category\",\n        \"num_unique_values\": 4,\n        \"samples\": [\n          \"Electronic check\",\n          \"Bank transfer (automatic)\"\n        ],\n        \"semantic_type\": \"\",\n        \"description\": \"\"\n      }\n    },\n    {\n      \"column\": \"Cobranca_Mensal\",\n      \"properties\": {\n        \"dtype\": \"number\",\n        \"std\": 30.12957188566699,\n        \"min\": 18.25,\n        \"max\": 118.75,\n        \"num_unique_values\": 1585,\n        \"samples\": [\n          100.85,\n          91.8\n        ],\n        \"semantic_type\": \"\",\n        \"description\": \"\"\n      }\n    },\n    {\n      \"column\": \"Cobranca_Total\",\n      \"properties\": {\n        \"dtype\": \"string\",\n        \"num_unique_values\": 6531,\n        \"samples\": [\n          \"1994.3\",\n          \"600\"\n        ],\n        \"semantic_type\": \"\",\n        \"description\": \"\"\n      }\n    }\n  ]\n}"
            }
          },
          "metadata": {},
          "execution_count": 47
        }
      ],
      "source": [
        "dados.head(5)"
      ]
    },
    {
      "cell_type": "code",
      "execution_count": 48,
      "metadata": {
        "colab": {
          "base_uri": "https://localhost:8080/"
        },
        "id": "sw2BisSJCQSi",
        "outputId": "0ce7a53a-9cb4-4d34-9850-36a617a83de7"
      },
      "outputs": [
        {
          "output_type": "execute_result",
          "data": {
            "text/plain": [
              "Index(['Cancelou', 'Genero', 'Idoso', 'Possui_Conjuge', 'Possui_Dependentes',\n",
              "       'Meses_Contrato', 'Telefone_Ativo', 'Multiplas_Linhas', 'Tipo_Internet',\n",
              "       'Seguranca_Online', 'Backup_Online', 'Protecao_Aparelho',\n",
              "       'Suporte_Tecnico', 'Streaming_TV', 'Streaming_Filmes', 'Tipo_Contrato',\n",
              "       'Fatura_Papel', 'Metodo_Pagamento', 'Cobranca_Mensal',\n",
              "       'Cobranca_Total'],\n",
              "      dtype='object')"
            ]
          },
          "metadata": {},
          "execution_count": 48
        }
      ],
      "source": [
        "dados.columns"
      ]
    },
    {
      "cell_type": "code",
      "execution_count": 49,
      "metadata": {
        "colab": {
          "base_uri": "https://localhost:8080/"
        },
        "id": "XjoVEvCCB-QJ",
        "outputId": "94e3085d-7117-4531-f808-d7c5f6ec469b"
      },
      "outputs": [
        {
          "output_type": "stream",
          "name": "stdout",
          "text": [
            "<class 'pandas.core.frame.DataFrame'>\n",
            "RangeIndex: 7267 entries, 0 to 7266\n",
            "Data columns (total 20 columns):\n",
            " #   Column              Non-Null Count  Dtype  \n",
            "---  ------              --------------  -----  \n",
            " 0   Cancelou            7043 non-null   object \n",
            " 1   Genero              7267 non-null   object \n",
            " 2   Idoso               7267 non-null   int64  \n",
            " 3   Possui_Conjuge      7267 non-null   object \n",
            " 4   Possui_Dependentes  7267 non-null   object \n",
            " 5   Meses_Contrato      7267 non-null   int64  \n",
            " 6   Telefone_Ativo      7267 non-null   object \n",
            " 7   Multiplas_Linhas    7267 non-null   object \n",
            " 8   Tipo_Internet       7267 non-null   object \n",
            " 9   Seguranca_Online    7267 non-null   object \n",
            " 10  Backup_Online       7267 non-null   object \n",
            " 11  Protecao_Aparelho   7267 non-null   object \n",
            " 12  Suporte_Tecnico     7267 non-null   object \n",
            " 13  Streaming_TV        7267 non-null   object \n",
            " 14  Streaming_Filmes    7267 non-null   object \n",
            " 15  Tipo_Contrato       7267 non-null   object \n",
            " 16  Fatura_Papel        7267 non-null   object \n",
            " 17  Metodo_Pagamento    7267 non-null   object \n",
            " 18  Cobranca_Mensal     7267 non-null   float64\n",
            " 19  Cobranca_Total      7267 non-null   object \n",
            "dtypes: float64(1), int64(2), object(17)\n",
            "memory usage: 1.1+ MB\n"
          ]
        }
      ],
      "source": [
        "dados.info()"
      ]
    },
    {
      "cell_type": "markdown",
      "source": [
        "###Pré-Processamento"
      ],
      "metadata": {
        "id": "3IPn74bOed1W"
      }
    },
    {
      "cell_type": "markdown",
      "source": [
        "Modelos não conseguem lidar com o tipo object (texto) é necessário converter as colunas de strings para numeros. Foi escolhido o metodo de codificação ONE HOT ENCODING."
      ],
      "metadata": {
        "id": "7u3DbqujY0Py"
      }
    },
    {
      "cell_type": "code",
      "execution_count": 50,
      "metadata": {
        "id": "bpa3dBq_DGp0"
      },
      "outputs": [],
      "source": [
        "\n",
        "# Colunas categóricas que serão codificadas\n",
        "colunas_para_codificar = [\n",
        "    'Cancelou', 'Genero', 'Possui_Conjuge', 'Possui_Dependentes',\n",
        "    'Telefone_Ativo', 'Multiplas_Linhas', 'Tipo_Internet', 'Seguranca_Online',\n",
        "    'Backup_Online', 'Protecao_Aparelho', 'Suporte_Tecnico', 'Streaming_TV',\n",
        "    'Streaming_Filmes', 'Tipo_Contrato', 'Fatura_Papel', 'Metodo_Pagamento'\n",
        "]\n",
        "\n",
        "# Cria o codificador One-Hot, removendo a primeira categoria de cada variável\n",
        "codificador_ohe = OneHotEncoder(\n",
        "    drop='first',\n",
        "    sparse_output=False,\n",
        "    dtype=int,\n",
        "    handle_unknown='ignore'\n",
        ")\n",
        "\n",
        "# Define o ColumnTransformer para aplicar o OHE só nas colunas desejadas\n",
        "transformador = ColumnTransformer(\n",
        "    transformers=[\n",
        "        ('onehot', codificador_ohe, colunas_para_codificar)\n",
        "    ],\n",
        "    remainder='passthrough'  # mantém as demais colunas sem alteração\n",
        ")\n",
        "\n",
        "# Supondo que seu DataFrame original chama-se df\n",
        "df = dados.copy()\n",
        "\n",
        "#Ajusta (fit) e transforma os dados\n",
        "dados_transformados = transformador.fit_transform(df)\n",
        "\n",
        "#Recupera os nomes das colunas OHE geradas\n",
        "nomes_ohe = transformador.named_transformers_['onehot'].get_feature_names_out(colunas_para_codificar)\n",
        "\n",
        "#Monta o DataFrame final, unindo colunas transformadas e não-transformadas\n",
        "df_codificado = pd.DataFrame(\n",
        "    dados_transformados,\n",
        "    columns=[*nomes_ohe, *[c for c in df.columns if c not in colunas_para_codificar]]\n",
        ")\n"
      ]
    },
    {
      "cell_type": "markdown",
      "source": [
        "Como os dados ficaram apos colunas serem decodificadas."
      ],
      "metadata": {
        "id": "wACDP5fvdYBj"
      }
    },
    {
      "cell_type": "code",
      "execution_count": 51,
      "metadata": {
        "colab": {
          "base_uri": "https://localhost:8080/",
          "height": 179
        },
        "id": "SN1L2KrxVWLQ",
        "outputId": "3f987b40-3359-4136-b52e-b61e8a9130e2"
      },
      "outputs": [
        {
          "output_type": "execute_result",
          "data": {
            "text/plain": [
              "  Cancelou_Yes Cancelou_nan Genero_Male Possui_Conjuge_Yes  \\\n",
              "0            0            0           0                  1   \n",
              "1            0            0           1                  0   \n",
              "\n",
              "  Possui_Dependentes_Yes Telefone_Ativo_Yes Multiplas_Linhas_No phone service  \\\n",
              "0                      1                  1                                 0   \n",
              "1                      0                  1                                 0   \n",
              "\n",
              "  Multiplas_Linhas_Yes Tipo_Internet_Fiber optic Tipo_Internet_No  ...  \\\n",
              "0                    0                         0                0  ...   \n",
              "1                    1                         0                0  ...   \n",
              "\n",
              "  Tipo_Contrato_One year Tipo_Contrato_Two year Fatura_Papel_Yes  \\\n",
              "0                      1                      0                1   \n",
              "1                      0                      0                0   \n",
              "\n",
              "  Metodo_Pagamento_Credit card (automatic) Metodo_Pagamento_Electronic check  \\\n",
              "0                                        0                                 0   \n",
              "1                                        0                                 0   \n",
              "\n",
              "  Metodo_Pagamento_Mailed check Idoso Meses_Contrato Cobranca_Mensal  \\\n",
              "0                             1     0              9            65.6   \n",
              "1                             1     0              9            59.9   \n",
              "\n",
              "  Cobranca_Total  \n",
              "0          593.3  \n",
              "1          542.4  \n",
              "\n",
              "[2 rows x 32 columns]"
            ],
            "text/html": [
              "\n",
              "  <div id=\"df-09496b6b-baef-418f-8e8f-0d49420c9aca\" class=\"colab-df-container\">\n",
              "    <div>\n",
              "<style scoped>\n",
              "    .dataframe tbody tr th:only-of-type {\n",
              "        vertical-align: middle;\n",
              "    }\n",
              "\n",
              "    .dataframe tbody tr th {\n",
              "        vertical-align: top;\n",
              "    }\n",
              "\n",
              "    .dataframe thead th {\n",
              "        text-align: right;\n",
              "    }\n",
              "</style>\n",
              "<table border=\"1\" class=\"dataframe\">\n",
              "  <thead>\n",
              "    <tr style=\"text-align: right;\">\n",
              "      <th></th>\n",
              "      <th>Cancelou_Yes</th>\n",
              "      <th>Cancelou_nan</th>\n",
              "      <th>Genero_Male</th>\n",
              "      <th>Possui_Conjuge_Yes</th>\n",
              "      <th>Possui_Dependentes_Yes</th>\n",
              "      <th>Telefone_Ativo_Yes</th>\n",
              "      <th>Multiplas_Linhas_No phone service</th>\n",
              "      <th>Multiplas_Linhas_Yes</th>\n",
              "      <th>Tipo_Internet_Fiber optic</th>\n",
              "      <th>Tipo_Internet_No</th>\n",
              "      <th>...</th>\n",
              "      <th>Tipo_Contrato_One year</th>\n",
              "      <th>Tipo_Contrato_Two year</th>\n",
              "      <th>Fatura_Papel_Yes</th>\n",
              "      <th>Metodo_Pagamento_Credit card (automatic)</th>\n",
              "      <th>Metodo_Pagamento_Electronic check</th>\n",
              "      <th>Metodo_Pagamento_Mailed check</th>\n",
              "      <th>Idoso</th>\n",
              "      <th>Meses_Contrato</th>\n",
              "      <th>Cobranca_Mensal</th>\n",
              "      <th>Cobranca_Total</th>\n",
              "    </tr>\n",
              "  </thead>\n",
              "  <tbody>\n",
              "    <tr>\n",
              "      <th>0</th>\n",
              "      <td>0</td>\n",
              "      <td>0</td>\n",
              "      <td>0</td>\n",
              "      <td>1</td>\n",
              "      <td>1</td>\n",
              "      <td>1</td>\n",
              "      <td>0</td>\n",
              "      <td>0</td>\n",
              "      <td>0</td>\n",
              "      <td>0</td>\n",
              "      <td>...</td>\n",
              "      <td>1</td>\n",
              "      <td>0</td>\n",
              "      <td>1</td>\n",
              "      <td>0</td>\n",
              "      <td>0</td>\n",
              "      <td>1</td>\n",
              "      <td>0</td>\n",
              "      <td>9</td>\n",
              "      <td>65.6</td>\n",
              "      <td>593.3</td>\n",
              "    </tr>\n",
              "    <tr>\n",
              "      <th>1</th>\n",
              "      <td>0</td>\n",
              "      <td>0</td>\n",
              "      <td>1</td>\n",
              "      <td>0</td>\n",
              "      <td>0</td>\n",
              "      <td>1</td>\n",
              "      <td>0</td>\n",
              "      <td>1</td>\n",
              "      <td>0</td>\n",
              "      <td>0</td>\n",
              "      <td>...</td>\n",
              "      <td>0</td>\n",
              "      <td>0</td>\n",
              "      <td>0</td>\n",
              "      <td>0</td>\n",
              "      <td>0</td>\n",
              "      <td>1</td>\n",
              "      <td>0</td>\n",
              "      <td>9</td>\n",
              "      <td>59.9</td>\n",
              "      <td>542.4</td>\n",
              "    </tr>\n",
              "  </tbody>\n",
              "</table>\n",
              "<p>2 rows × 32 columns</p>\n",
              "</div>\n",
              "    <div class=\"colab-df-buttons\">\n",
              "\n",
              "  <div class=\"colab-df-container\">\n",
              "    <button class=\"colab-df-convert\" onclick=\"convertToInteractive('df-09496b6b-baef-418f-8e8f-0d49420c9aca')\"\n",
              "            title=\"Convert this dataframe to an interactive table.\"\n",
              "            style=\"display:none;\">\n",
              "\n",
              "  <svg xmlns=\"http://www.w3.org/2000/svg\" height=\"24px\" viewBox=\"0 -960 960 960\">\n",
              "    <path d=\"M120-120v-720h720v720H120Zm60-500h600v-160H180v160Zm220 220h160v-160H400v160Zm0 220h160v-160H400v160ZM180-400h160v-160H180v160Zm440 0h160v-160H620v160ZM180-180h160v-160H180v160Zm440 0h160v-160H620v160Z\"/>\n",
              "  </svg>\n",
              "    </button>\n",
              "\n",
              "  <style>\n",
              "    .colab-df-container {\n",
              "      display:flex;\n",
              "      gap: 12px;\n",
              "    }\n",
              "\n",
              "    .colab-df-convert {\n",
              "      background-color: #E8F0FE;\n",
              "      border: none;\n",
              "      border-radius: 50%;\n",
              "      cursor: pointer;\n",
              "      display: none;\n",
              "      fill: #1967D2;\n",
              "      height: 32px;\n",
              "      padding: 0 0 0 0;\n",
              "      width: 32px;\n",
              "    }\n",
              "\n",
              "    .colab-df-convert:hover {\n",
              "      background-color: #E2EBFA;\n",
              "      box-shadow: 0px 1px 2px rgba(60, 64, 67, 0.3), 0px 1px 3px 1px rgba(60, 64, 67, 0.15);\n",
              "      fill: #174EA6;\n",
              "    }\n",
              "\n",
              "    .colab-df-buttons div {\n",
              "      margin-bottom: 4px;\n",
              "    }\n",
              "\n",
              "    [theme=dark] .colab-df-convert {\n",
              "      background-color: #3B4455;\n",
              "      fill: #D2E3FC;\n",
              "    }\n",
              "\n",
              "    [theme=dark] .colab-df-convert:hover {\n",
              "      background-color: #434B5C;\n",
              "      box-shadow: 0px 1px 3px 1px rgba(0, 0, 0, 0.15);\n",
              "      filter: drop-shadow(0px 1px 2px rgba(0, 0, 0, 0.3));\n",
              "      fill: #FFFFFF;\n",
              "    }\n",
              "  </style>\n",
              "\n",
              "    <script>\n",
              "      const buttonEl =\n",
              "        document.querySelector('#df-09496b6b-baef-418f-8e8f-0d49420c9aca button.colab-df-convert');\n",
              "      buttonEl.style.display =\n",
              "        google.colab.kernel.accessAllowed ? 'block' : 'none';\n",
              "\n",
              "      async function convertToInteractive(key) {\n",
              "        const element = document.querySelector('#df-09496b6b-baef-418f-8e8f-0d49420c9aca');\n",
              "        const dataTable =\n",
              "          await google.colab.kernel.invokeFunction('convertToInteractive',\n",
              "                                                    [key], {});\n",
              "        if (!dataTable) return;\n",
              "\n",
              "        const docLinkHtml = 'Like what you see? Visit the ' +\n",
              "          '<a target=\"_blank\" href=https://colab.research.google.com/notebooks/data_table.ipynb>data table notebook</a>'\n",
              "          + ' to learn more about interactive tables.';\n",
              "        element.innerHTML = '';\n",
              "        dataTable['output_type'] = 'display_data';\n",
              "        await google.colab.output.renderOutput(dataTable, element);\n",
              "        const docLink = document.createElement('div');\n",
              "        docLink.innerHTML = docLinkHtml;\n",
              "        element.appendChild(docLink);\n",
              "      }\n",
              "    </script>\n",
              "  </div>\n",
              "\n",
              "\n",
              "    <div id=\"df-0962e76c-686e-4525-bc94-66d7f927bb56\">\n",
              "      <button class=\"colab-df-quickchart\" onclick=\"quickchart('df-0962e76c-686e-4525-bc94-66d7f927bb56')\"\n",
              "                title=\"Suggest charts\"\n",
              "                style=\"display:none;\">\n",
              "\n",
              "<svg xmlns=\"http://www.w3.org/2000/svg\" height=\"24px\"viewBox=\"0 0 24 24\"\n",
              "     width=\"24px\">\n",
              "    <g>\n",
              "        <path d=\"M19 3H5c-1.1 0-2 .9-2 2v14c0 1.1.9 2 2 2h14c1.1 0 2-.9 2-2V5c0-1.1-.9-2-2-2zM9 17H7v-7h2v7zm4 0h-2V7h2v10zm4 0h-2v-4h2v4z\"/>\n",
              "    </g>\n",
              "</svg>\n",
              "      </button>\n",
              "\n",
              "<style>\n",
              "  .colab-df-quickchart {\n",
              "      --bg-color: #E8F0FE;\n",
              "      --fill-color: #1967D2;\n",
              "      --hover-bg-color: #E2EBFA;\n",
              "      --hover-fill-color: #174EA6;\n",
              "      --disabled-fill-color: #AAA;\n",
              "      --disabled-bg-color: #DDD;\n",
              "  }\n",
              "\n",
              "  [theme=dark] .colab-df-quickchart {\n",
              "      --bg-color: #3B4455;\n",
              "      --fill-color: #D2E3FC;\n",
              "      --hover-bg-color: #434B5C;\n",
              "      --hover-fill-color: #FFFFFF;\n",
              "      --disabled-bg-color: #3B4455;\n",
              "      --disabled-fill-color: #666;\n",
              "  }\n",
              "\n",
              "  .colab-df-quickchart {\n",
              "    background-color: var(--bg-color);\n",
              "    border: none;\n",
              "    border-radius: 50%;\n",
              "    cursor: pointer;\n",
              "    display: none;\n",
              "    fill: var(--fill-color);\n",
              "    height: 32px;\n",
              "    padding: 0;\n",
              "    width: 32px;\n",
              "  }\n",
              "\n",
              "  .colab-df-quickchart:hover {\n",
              "    background-color: var(--hover-bg-color);\n",
              "    box-shadow: 0 1px 2px rgba(60, 64, 67, 0.3), 0 1px 3px 1px rgba(60, 64, 67, 0.15);\n",
              "    fill: var(--button-hover-fill-color);\n",
              "  }\n",
              "\n",
              "  .colab-df-quickchart-complete:disabled,\n",
              "  .colab-df-quickchart-complete:disabled:hover {\n",
              "    background-color: var(--disabled-bg-color);\n",
              "    fill: var(--disabled-fill-color);\n",
              "    box-shadow: none;\n",
              "  }\n",
              "\n",
              "  .colab-df-spinner {\n",
              "    border: 2px solid var(--fill-color);\n",
              "    border-color: transparent;\n",
              "    border-bottom-color: var(--fill-color);\n",
              "    animation:\n",
              "      spin 1s steps(1) infinite;\n",
              "  }\n",
              "\n",
              "  @keyframes spin {\n",
              "    0% {\n",
              "      border-color: transparent;\n",
              "      border-bottom-color: var(--fill-color);\n",
              "      border-left-color: var(--fill-color);\n",
              "    }\n",
              "    20% {\n",
              "      border-color: transparent;\n",
              "      border-left-color: var(--fill-color);\n",
              "      border-top-color: var(--fill-color);\n",
              "    }\n",
              "    30% {\n",
              "      border-color: transparent;\n",
              "      border-left-color: var(--fill-color);\n",
              "      border-top-color: var(--fill-color);\n",
              "      border-right-color: var(--fill-color);\n",
              "    }\n",
              "    40% {\n",
              "      border-color: transparent;\n",
              "      border-right-color: var(--fill-color);\n",
              "      border-top-color: var(--fill-color);\n",
              "    }\n",
              "    60% {\n",
              "      border-color: transparent;\n",
              "      border-right-color: var(--fill-color);\n",
              "    }\n",
              "    80% {\n",
              "      border-color: transparent;\n",
              "      border-right-color: var(--fill-color);\n",
              "      border-bottom-color: var(--fill-color);\n",
              "    }\n",
              "    90% {\n",
              "      border-color: transparent;\n",
              "      border-bottom-color: var(--fill-color);\n",
              "    }\n",
              "  }\n",
              "</style>\n",
              "\n",
              "      <script>\n",
              "        async function quickchart(key) {\n",
              "          const quickchartButtonEl =\n",
              "            document.querySelector('#' + key + ' button');\n",
              "          quickchartButtonEl.disabled = true;  // To prevent multiple clicks.\n",
              "          quickchartButtonEl.classList.add('colab-df-spinner');\n",
              "          try {\n",
              "            const charts = await google.colab.kernel.invokeFunction(\n",
              "                'suggestCharts', [key], {});\n",
              "          } catch (error) {\n",
              "            console.error('Error during call to suggestCharts:', error);\n",
              "          }\n",
              "          quickchartButtonEl.classList.remove('colab-df-spinner');\n",
              "          quickchartButtonEl.classList.add('colab-df-quickchart-complete');\n",
              "        }\n",
              "        (() => {\n",
              "          let quickchartButtonEl =\n",
              "            document.querySelector('#df-0962e76c-686e-4525-bc94-66d7f927bb56 button');\n",
              "          quickchartButtonEl.style.display =\n",
              "            google.colab.kernel.accessAllowed ? 'block' : 'none';\n",
              "        })();\n",
              "      </script>\n",
              "    </div>\n",
              "\n",
              "    </div>\n",
              "  </div>\n"
            ],
            "application/vnd.google.colaboratory.intrinsic+json": {
              "type": "dataframe",
              "variable_name": "df_codificado"
            }
          },
          "metadata": {},
          "execution_count": 51
        }
      ],
      "source": [
        "df_codificado.head(2)"
      ]
    },
    {
      "cell_type": "markdown",
      "source": [
        "As colunas 'Cancelou_Yes' e 'Cancelou_nan' dizem a mesma coisa de maneira inversa, e como o estudo é para retenção de clientes que tem maior chance de cancelar, decidi excluir a coluna 'Cancelou_nan'."
      ],
      "metadata": {
        "id": "UeDXKJd1doSa"
      }
    },
    {
      "cell_type": "code",
      "source": [
        "df_codificado = df_codificado.drop('Cancelou_nan', axis = 1)"
      ],
      "metadata": {
        "id": "gzrim5AnV9Fc"
      },
      "execution_count": 52,
      "outputs": []
    },
    {
      "cell_type": "markdown",
      "source": [
        "Analisando toda a estrutura de dados do df mais uma vez."
      ],
      "metadata": {
        "id": "6OSIi8-UevEb"
      }
    },
    {
      "cell_type": "code",
      "execution_count": 53,
      "metadata": {
        "colab": {
          "base_uri": "https://localhost:8080/"
        },
        "id": "cwos5pWhWooD",
        "outputId": "7cf358fc-dc40-4b25-be8f-f2631cdadbcc"
      },
      "outputs": [
        {
          "output_type": "stream",
          "name": "stdout",
          "text": [
            "<class 'pandas.core.frame.DataFrame'>\n",
            "RangeIndex: 7267 entries, 0 to 7266\n",
            "Data columns (total 31 columns):\n",
            " #   Column                                    Non-Null Count  Dtype \n",
            "---  ------                                    --------------  ----- \n",
            " 0   Cancelou_Yes                              7267 non-null   object\n",
            " 1   Genero_Male                               7267 non-null   object\n",
            " 2   Possui_Conjuge_Yes                        7267 non-null   object\n",
            " 3   Possui_Dependentes_Yes                    7267 non-null   object\n",
            " 4   Telefone_Ativo_Yes                        7267 non-null   object\n",
            " 5   Multiplas_Linhas_No phone service         7267 non-null   object\n",
            " 6   Multiplas_Linhas_Yes                      7267 non-null   object\n",
            " 7   Tipo_Internet_Fiber optic                 7267 non-null   object\n",
            " 8   Tipo_Internet_No                          7267 non-null   object\n",
            " 9   Seguranca_Online_No internet service      7267 non-null   object\n",
            " 10  Seguranca_Online_Yes                      7267 non-null   object\n",
            " 11  Backup_Online_No internet service         7267 non-null   object\n",
            " 12  Backup_Online_Yes                         7267 non-null   object\n",
            " 13  Protecao_Aparelho_No internet service     7267 non-null   object\n",
            " 14  Protecao_Aparelho_Yes                     7267 non-null   object\n",
            " 15  Suporte_Tecnico_No internet service       7267 non-null   object\n",
            " 16  Suporte_Tecnico_Yes                       7267 non-null   object\n",
            " 17  Streaming_TV_No internet service          7267 non-null   object\n",
            " 18  Streaming_TV_Yes                          7267 non-null   object\n",
            " 19  Streaming_Filmes_No internet service      7267 non-null   object\n",
            " 20  Streaming_Filmes_Yes                      7267 non-null   object\n",
            " 21  Tipo_Contrato_One year                    7267 non-null   object\n",
            " 22  Tipo_Contrato_Two year                    7267 non-null   object\n",
            " 23  Fatura_Papel_Yes                          7267 non-null   object\n",
            " 24  Metodo_Pagamento_Credit card (automatic)  7267 non-null   object\n",
            " 25  Metodo_Pagamento_Electronic check         7267 non-null   object\n",
            " 26  Metodo_Pagamento_Mailed check             7267 non-null   object\n",
            " 27  Idoso                                     7267 non-null   object\n",
            " 28  Meses_Contrato                            7267 non-null   object\n",
            " 29  Cobranca_Mensal                           7267 non-null   object\n",
            " 30  Cobranca_Total                            7267 non-null   object\n",
            "dtypes: object(31)\n",
            "memory usage: 1.7+ MB\n"
          ]
        }
      ],
      "source": [
        "df_codificado.info()"
      ]
    },
    {
      "cell_type": "markdown",
      "source": [
        "####Conversão de Dados para Regressão\n",
        "\n",
        "Para aplicar modelos de regressão, é necessário que todas as variáveis estejam no formato numérico. No entanto, após o processo de codificação, algumas colunas estavam no tipo object, o que inviabiliza o uso direto em algoritmos de machine learning.\n",
        "\n",
        "Durante a conversão explícita dessas colunas para o tipo float, foi identificado que a coluna Cobrança_Total continha valores vazios ou em branco. Para resolver isso de forma simples e manter a consistência dos dados, os valores ausentes foram preenchidos com zero (0).\n",
        "\n",
        "A escolha do tipo float se deu porque ele é capaz de representar tanto números inteiros quanto decimais, cobrindo com segurança qualquer valor original da base."
      ],
      "metadata": {
        "id": "gaIUzVfyfO0h"
      }
    },
    {
      "cell_type": "code",
      "execution_count": 54,
      "metadata": {
        "colab": {
          "base_uri": "https://localhost:8080/"
        },
        "id": "Kjut6MHzXnPo",
        "outputId": "1d270159-63a2-42bb-d786-5d436bad0b03"
      },
      "outputs": [
        {
          "output_type": "stream",
          "name": "stderr",
          "text": [
            "/tmp/ipython-input-1864102336.py:1: FutureWarning: A value is trying to be set on a copy of a DataFrame or Series through chained assignment using an inplace method.\n",
            "The behavior will change in pandas 3.0. This inplace method will never work because the intermediate object on which we are setting values always behaves as a copy.\n",
            "\n",
            "For example, when doing 'df[col].method(value, inplace=True)', try using 'df.method({col: value}, inplace=True)' or df[col] = df[col].method(value) instead, to perform the operation inplace on the original object.\n",
            "\n",
            "\n",
            "  df_codificado['Cobranca_Total'].replace('', '0', inplace=True)\n",
            "/tmp/ipython-input-1864102336.py:2: FutureWarning: A value is trying to be set on a copy of a DataFrame or Series through chained assignment using an inplace method.\n",
            "The behavior will change in pandas 3.0. This inplace method will never work because the intermediate object on which we are setting values always behaves as a copy.\n",
            "\n",
            "For example, when doing 'df[col].method(value, inplace=True)', try using 'df.method({col: value}, inplace=True)' or df[col] = df[col].method(value) instead, to perform the operation inplace on the original object.\n",
            "\n",
            "\n",
            "  df_codificado['Cobranca_Total'].replace(' ', '0', inplace=True)\n"
          ]
        }
      ],
      "source": [
        "df_codificado['Cobranca_Total'].replace('', '0', inplace=True)\n",
        "df_codificado['Cobranca_Total'].replace(' ', '0', inplace=True)\n",
        "df_codificado = df_codificado.astype(float)"
      ]
    },
    {
      "cell_type": "markdown",
      "source": [
        "Por segurança confirmei se tudo que tinha antes permaneceu depois do tratamento."
      ],
      "metadata": {
        "id": "kRTL34LXhFkJ"
      }
    },
    {
      "cell_type": "code",
      "execution_count": 55,
      "metadata": {
        "colab": {
          "base_uri": "https://localhost:8080/"
        },
        "id": "SYIXIw0j0OEs",
        "outputId": "8a00fa4c-196d-4063-fef3-7eb5a2d5fce3"
      },
      "outputs": [
        {
          "output_type": "stream",
          "name": "stdout",
          "text": [
            "Index(['Cancelou', 'Genero', 'Idoso', 'Possui_Conjuge', 'Possui_Dependentes',\n",
            "       'Meses_Contrato', 'Telefone_Ativo', 'Multiplas_Linhas', 'Tipo_Internet',\n",
            "       'Seguranca_Online', 'Backup_Online', 'Protecao_Aparelho',\n",
            "       'Suporte_Tecnico', 'Streaming_TV', 'Streaming_Filmes', 'Tipo_Contrato',\n",
            "       'Fatura_Papel', 'Metodo_Pagamento', 'Cobranca_Mensal',\n",
            "       'Cobranca_Total'],\n",
            "      dtype='object') \n",
            " Index(['Cancelou_Yes', 'Genero_Male', 'Possui_Conjuge_Yes',\n",
            "       'Possui_Dependentes_Yes', 'Telefone_Ativo_Yes',\n",
            "       'Multiplas_Linhas_No phone service', 'Multiplas_Linhas_Yes',\n",
            "       'Tipo_Internet_Fiber optic', 'Tipo_Internet_No',\n",
            "       'Seguranca_Online_No internet service', 'Seguranca_Online_Yes',\n",
            "       'Backup_Online_No internet service', 'Backup_Online_Yes',\n",
            "       'Protecao_Aparelho_No internet service', 'Protecao_Aparelho_Yes',\n",
            "       'Suporte_Tecnico_No internet service', 'Suporte_Tecnico_Yes',\n",
            "       'Streaming_TV_No internet service', 'Streaming_TV_Yes',\n",
            "       'Streaming_Filmes_No internet service', 'Streaming_Filmes_Yes',\n",
            "       'Tipo_Contrato_One year', 'Tipo_Contrato_Two year', 'Fatura_Papel_Yes',\n",
            "       'Metodo_Pagamento_Credit card (automatic)',\n",
            "       'Metodo_Pagamento_Electronic check', 'Metodo_Pagamento_Mailed check',\n",
            "       'Idoso', 'Meses_Contrato', 'Cobranca_Mensal', 'Cobranca_Total'],\n",
            "      dtype='object')\n"
          ]
        }
      ],
      "source": [
        "print(dados.columns,'\\n' ,df_codificado.columns)"
      ]
    },
    {
      "cell_type": "markdown",
      "source": [
        "Com o One Hot Encoding foram criadas algumas colunas que não teriam utilidades no projeto e foram apagadas."
      ],
      "metadata": {
        "id": "bSfMw0oWieGO"
      }
    },
    {
      "cell_type": "code",
      "execution_count": 56,
      "metadata": {
        "id": "ivxzYahj1OAr"
      },
      "outputs": [],
      "source": [
        "colunas_apagar = [\n",
        "    'Multiplas_Linhas_No phone service',\n",
        "    'Seguranca_Online_No internet service',\n",
        "    'Backup_Online_No internet service',\n",
        "    'Protecao_Aparelho_No internet service',\n",
        "    'Suporte_Tecnico_No internet service',\n",
        "    'Streaming_TV_No internet service',\n",
        "    'Streaming_Filmes_No internet service'\n",
        "]\n",
        "\n",
        "df_codificado.drop(columns=colunas_apagar, inplace=True)"
      ]
    },
    {
      "cell_type": "markdown",
      "source": [
        "####Definição da Variável Alvo\n",
        "\n",
        "Modelos de regressão e classificação exigem que a variável alvo esteja separada do conjunto de atributos. No contexto deste projeto, a coluna Cancelou_Yes representa os clientes que cancelaram o serviço (classe 1). Para facilitar a leitura e padronizar o nome, essa coluna foi renomeada para Cancelou.\n",
        "\n",
        "Após essa renomeação, a variável alvo foi isolada em um novo objeto (y), e a coluna correspondente foi removida do DataFrame principal, garantindo a estrutura necessária para o treinamento dos modelos.\n",
        "\n"
      ],
      "metadata": {
        "id": "jl1emsewhSR6"
      }
    },
    {
      "cell_type": "code",
      "execution_count": 57,
      "metadata": {
        "id": "ihBvK1DK7VRq"
      },
      "outputs": [],
      "source": [
        "\n",
        "variavel_alvo = df_codificado['Cancelou_Yes'].reset_index(drop=True)\n",
        "variavel_alvo = pd.DataFrame(variavel_alvo)\n",
        "\n",
        "variavel_alvo = variavel_alvo.rename(columns={\n",
        "    'Cancelou_Yes':                         'Cancelou'})\n",
        "df_codificado = df_codificado.drop('Cancelou_Yes',axis=1)"
      ]
    },
    {
      "cell_type": "markdown",
      "source": [
        "Para facilitar o entendimento achei melhor renomear as colunas e atribui essas modificações a uma nova variavel chamada apenas df."
      ],
      "metadata": {
        "id": "D1nDKVtdj7da"
      }
    },
    {
      "cell_type": "code",
      "execution_count": 58,
      "metadata": {
        "id": "0bUrmBkA5vCu"
      },
      "outputs": [],
      "source": [
        "df = df_codificado.rename(columns={\n",
        "    'Idoso':                         'Idoso',\n",
        "    'Cobrança_Total':                'Cobrança Total',\n",
        "    'Meses_Contrato':                'Meses de Contrato',\n",
        "    'Cobranca_Mensal':               'Cobrança Mensal (R$)',\n",
        "    'Genero_Male':                   'Sexo',\n",
        "    'Possui_Conjuge_Yes':            'Tem Cônjuge',\n",
        "    'Possui_Dependentes_Yes':        'Tem Dependentes',\n",
        "    'Telefone_Ativo_Yes':            'Linha Telefônica Ativa',\n",
        "    'Multiplas_Linhas_Yes':          'Tem Múltiplas Linhas',\n",
        "    'Tipo_Internet_Fiber optic':     'Internet Fibra Óptica',\n",
        "    'Tipo_Internet_No':              'Sem Internet',\n",
        "    'Seguranca_Online_Yes':          'Tem Segurança Online',\n",
        "    'Backup_Online_Yes':             'Tem Backup Online',\n",
        "    'Protecao_Aparelho_Yes':         'Tem Proteção de Aparelho',\n",
        "    'Suporte_Tecnico_Yes':           'Tem Suporte Técnico',\n",
        "    'Streaming_TV_Yes':              'Tem Streaming de TV',\n",
        "    'Streaming_Filmes_Yes':          'Tem Streaming de Filmes',\n",
        "    'Tipo_Contrato_One year':        'Contrato de 1 Ano',\n",
        "    'Tipo_Contrato_Two year':        'Contrato de 2 Anos',\n",
        "    'Fatura_Papel_Yes':              'Fatura em Papel',\n",
        "    'Metodo_Pagamento_Credit card (automatic)': 'Pagamento Automático (Cartão)',\n",
        "    'Metodo_Pagamento_Electronic check':       'Pagamento por Conta Eletrônica',\n",
        "    'Metodo_Pagamento_Mailed check':           'Pagamento por Conta Postal'\n",
        "})"
      ]
    },
    {
      "cell_type": "markdown",
      "source": [
        "####Análise de Correlação\n",
        "\n",
        "Correlação é uma medida estatística que expressa o grau de associação entre duas variáveis. Em termos simples, indica o quanto a variação de uma variável influencia na variação de outra.\n",
        "\n",
        "Nas células abaixo, foi gerada uma matriz de correlação entre as variáveis do conjunto de dados. Correlações fracas (próximas de 0) indicam pouca ou nenhuma relação linear com a variável alvo e, em muitos casos, não contribuem positivamente para o desempenho do modelo — podendo até gerar ruído.\n",
        "\n",
        "Após realizar testes e análises, foi possível identificar que as seguintes colunas apresentaram baixa correlação com a variável alvo (Cancelou). Por esse motivo, elas foram removidas do DataFrame para reduzir complexidade e melhorar o desempenho do modelo."
      ],
      "metadata": {
        "id": "ubJS5bqul_mF"
      }
    },
    {
      "cell_type": "code",
      "source": [
        "correlacao = df.corrwith(variavel_alvo['Cancelou'])\n",
        "print(correlacao)"
      ],
      "metadata": {
        "colab": {
          "base_uri": "https://localhost:8080/"
        },
        "id": "9uQVbCImCgOV",
        "outputId": "8166fa90-34a0-4bdd-bda4-f37393807418"
      },
      "execution_count": 59,
      "outputs": [
        {
          "output_type": "stream",
          "name": "stdout",
          "text": [
            "Sexo                             -0.009555\n",
            "Tem Cônjuge                      -0.148546\n",
            "Tem Dependentes                  -0.161384\n",
            "Linha Telefônica Ativa            0.012571\n",
            "Tem Múltiplas Linhas              0.039343\n",
            "Internet Fibra Óptica             0.300949\n",
            "Sem Internet                     -0.224051\n",
            "Tem Segurança Online             -0.166828\n",
            "Tem Backup Online                -0.080163\n",
            "Tem Proteção de Aparelho         -0.063452\n",
            "Tem Suporte Técnico              -0.160440\n",
            "Tem Streaming de TV               0.062430\n",
            "Tem Streaming de Filmes           0.060586\n",
            "Contrato de 1 Ano                -0.173958\n",
            "Contrato de 2 Anos               -0.295138\n",
            "Fatura em Papel                   0.186666\n",
            "Pagamento Automático (Cartão)    -0.131085\n",
            "Pagamento por Conta Eletrônica    0.294626\n",
            "Pagamento por Conta Postal       -0.090061\n",
            "Idoso                             0.146733\n",
            "Meses de Contrato                -0.344079\n",
            "Cobrança Mensal (R$)              0.189866\n",
            "Cobranca_Total                   -0.193345\n",
            "dtype: float64\n"
          ]
        }
      ]
    },
    {
      "cell_type": "code",
      "source": [
        "#Remoção colunas\n",
        "colunas_apagar = [\n",
        "'Cobrança Mensal (R$)',\n",
        "'Tem Backup Online',\n",
        "'Tem Proteção de Aparelho',\n",
        "'Tem Streaming de TV',\n",
        "'Tem Streaming de Filmes',\n",
        "'Tem Múltiplas Linhas',\n",
        "'Linha Telefônica Ativa',\n",
        "'Sexo',\n",
        "'Pagamento por Conta Postal'\n",
        "]\n",
        "df = df.drop(columns=colunas_apagar, axis=1)"
      ],
      "metadata": {
        "id": "6DsYcQwAryLU"
      },
      "execution_count": 60,
      "outputs": []
    },
    {
      "cell_type": "markdown",
      "metadata": {
        "id": "fFQEPpTb7-bl"
      },
      "source": [
        "####Análise de Proporcionalidade da Variável Alvo\n",
        "Modelos de regressão e classificação geralmente apresentam melhor desempenho quando os dados estão balanceados, ou seja, quando as classes da variável alvo possuem proporções semelhantes.\n",
        "\n",
        "Dessa forma, é essencial analisar a distribuição da variável alvo (Cancelou) para entender se há desbalanceamento significativo entre os clientes que cancelaram e os que não cancelaram. Isso permite decidir se será necessário aplicar técnicas de balanceamento, como o SMOTE, para evitar que o modelo aprenda a priorizar apenas a classe majoritária."
      ]
    },
    {
      "cell_type": "code",
      "execution_count": 61,
      "metadata": {
        "colab": {
          "base_uri": "https://localhost:8080/",
          "height": 178
        },
        "id": "d0RibHWX-qII",
        "outputId": "377e02dc-545b-49a3-f21d-4676a77665f5"
      },
      "outputs": [
        {
          "output_type": "execute_result",
          "data": {
            "text/plain": [
              "Cancelou\n",
              "0.0    0.74281\n",
              "1.0    0.25719\n",
              "Name: proportion, dtype: float64"
            ],
            "text/html": [
              "<div>\n",
              "<style scoped>\n",
              "    .dataframe tbody tr th:only-of-type {\n",
              "        vertical-align: middle;\n",
              "    }\n",
              "\n",
              "    .dataframe tbody tr th {\n",
              "        vertical-align: top;\n",
              "    }\n",
              "\n",
              "    .dataframe thead th {\n",
              "        text-align: right;\n",
              "    }\n",
              "</style>\n",
              "<table border=\"1\" class=\"dataframe\">\n",
              "  <thead>\n",
              "    <tr style=\"text-align: right;\">\n",
              "      <th></th>\n",
              "      <th>proportion</th>\n",
              "    </tr>\n",
              "    <tr>\n",
              "      <th>Cancelou</th>\n",
              "      <th></th>\n",
              "    </tr>\n",
              "  </thead>\n",
              "  <tbody>\n",
              "    <tr>\n",
              "      <th>0.0</th>\n",
              "      <td>0.74281</td>\n",
              "    </tr>\n",
              "    <tr>\n",
              "      <th>1.0</th>\n",
              "      <td>0.25719</td>\n",
              "    </tr>\n",
              "  </tbody>\n",
              "</table>\n",
              "</div><br><label><b>dtype:</b> float64</label>"
            ]
          },
          "metadata": {},
          "execution_count": 61
        }
      ],
      "source": [
        "variavel_alvo['Cancelou'].value_counts(normalize=True)"
      ]
    },
    {
      "cell_type": "markdown",
      "source": [
        "####Treino e Teste"
      ],
      "metadata": {
        "id": "cW4dfXbDocin"
      }
    },
    {
      "cell_type": "markdown",
      "source": [
        "####Separação dos Dados em Treino e Teste\n",
        "Modelos de regressão precisam ser treinados em um conjunto de dados e, em seguida, avaliados em outro, para verificar sua capacidade de generalização.\n",
        "\n",
        "Para isso, foi utilizada a função train_test_split da biblioteca sklearn, que realiza a divisão automática do conjunto de dados entre treino e teste, garantindo que a avaliação ocorra sobre dados que o modelo ainda não viu."
      ],
      "metadata": {
        "id": "U-KNfHr9osU5"
      }
    },
    {
      "cell_type": "code",
      "execution_count": 62,
      "metadata": {
        "colab": {
          "base_uri": "https://localhost:8080/"
        },
        "id": "JkXNOUlo-40r",
        "outputId": "89288e56-d99e-4211-ecf3-2fe83c232b86"
      },
      "outputs": [
        {
          "output_type": "stream",
          "name": "stdout",
          "text": [
            "X_train: (5086, 14) y_train: (5086, 1)\n",
            "X_test:  (2181, 14) y_test:  (2181, 1)\n"
          ]
        }
      ],
      "source": [
        "\n",
        "X = df.copy()\n",
        "y = variavel_alvo.copy()\n",
        "\n",
        "X_train, X_test, y_train, y_test = train_test_split (X,\n",
        "                                                     y,\n",
        "                                                     test_size=0.3,     #30 % dos dados para teste o restante para treino\n",
        "                                                     random_state=42,   #Para manter os dados 'fixos' e não gerar valores diferentes a cada execução\n",
        "                                                     stratify=y         #Manter a proproção dos dados nos testes e treinos.\n",
        "                                                     )\n",
        "\n",
        "print(\"X_train:\", X_train.shape, \"y_train:\", y_train.shape)\n",
        "print(\"X_test: \", X_test.shape,  \"y_test: \",  y_test.shape)"
      ]
    },
    {
      "cell_type": "markdown",
      "source": [
        "####Padronização dos Dados\n",
        "Alguns modelos de regressão, como a Regressão Logística, têm desempenho significativamente melhor quando os dados de entrada estão padronizados.\n",
        "\n",
        "Para isso, foi utilizado o StandardScaler, que transforma os dados para que tenham média 0 e desvio padrão 1 (não de 0 a 1 — isso seria normalização, não padronização).\n",
        "\n",
        "Por uma questão de tempo, o StandardScaler foi aplicado a todo o DataFrame, incluindo variáveis binárias (dummies). No entanto, o ideal seria aplicá-lo somente às variáveis numéricas contínuas, o que provavelmente traria uma pequena melhoria nas métricas do modelo — especialmente em precisão e estabilidade."
      ],
      "metadata": {
        "id": "FXEWIyC_vQpH"
      }
    },
    {
      "cell_type": "code",
      "execution_count": 63,
      "metadata": {
        "id": "hNBulV89HnQz"
      },
      "outputs": [],
      "source": [
        "\n",
        "scaler = StandardScaler()\n",
        "X_train_padronizado = scaler.fit_transform(X_train)\n",
        "X_test_padronizado = scaler.transform(X_test)"
      ]
    },
    {
      "cell_type": "markdown",
      "source": [
        "####Balanceamento da Variável Alvo com SMOTE\n",
        "\n",
        "Como mencionado anteriormente, modelos de classificação geralmente aprendem melhor quando as classes da variável alvo estão em proporções próximas. No entanto, a análise mostrou que os dados estavam desbalanceados, com uma predominância de clientes que não cancelaram.\n",
        "\n",
        "Para corrigir esse desbalanceamento, foi utilizada a técnica SMOTE (Synthetic Minority Over-sampling Technique).\n",
        "O SMOTE não duplica dados existentes nem gera exemplos aleatórios. Em vez disso, ele seleciona uma amostra da classe minoritária, encontra seus 5 vizinhos mais próximos (por padrão), e cria um novo exemplo sintético interpolando entre eles.\n",
        "\n",
        "Neste projeto, foi definido sampling_strategy=0.4, o que significa que a classe minoritária foi aumentada até atingir 40% do tamanho da classe majoritária. Isso ajudou o modelo a aprender de forma mais equilibrada e reduzir o viés em favor da classe mais frequente."
      ],
      "metadata": {
        "id": "vN6XqKtUv4Fq"
      }
    },
    {
      "cell_type": "code",
      "execution_count": 64,
      "metadata": {
        "id": "ZQDACY34DJ1a"
      },
      "outputs": [],
      "source": [
        "\n",
        "smote = SMOTE(\n",
        "    sampling_strategy = 0.4,\n",
        "    random_state=42,\n",
        "    k_neighbors=5\n",
        ")\n",
        "\n",
        "X_resample, y_resample = smote.fit_resample(X_train,y_train)"
      ]
    },
    {
      "cell_type": "markdown",
      "source": [
        "Conferencia para ver antes e após o Smote."
      ],
      "metadata": {
        "id": "ZlpV1zoeERFM"
      }
    },
    {
      "cell_type": "code",
      "execution_count": 65,
      "metadata": {
        "colab": {
          "base_uri": "https://localhost:8080/"
        },
        "id": "pYeMZsOUHfM5",
        "outputId": "7b8595f3-2d31-4f8c-b019-2d91c059e52f"
      },
      "outputs": [
        {
          "output_type": "stream",
          "name": "stdout",
          "text": [
            "Cancelou\n",
            "0.0    0.742823\n",
            "1.0    0.257177\n",
            "Name: proportion, dtype: float64\n",
            "Cancelou\n",
            "0.0    0.714313\n",
            "1.0    0.285687\n",
            "Name: proportion, dtype: float64\n"
          ]
        }
      ],
      "source": [
        "print(y_train['Cancelou'].value_counts(normalize=True))\n",
        "print(y_resample['Cancelou'].value_counts(normalize=True))"
      ]
    },
    {
      "cell_type": "markdown",
      "source": [
        "####Análise de Correlação e Multicolinearidade\n",
        "\n",
        "Foi realizada uma análise de correlação entre a variável alvo (Cancelou) e as demais variáveis do conjunto de dados. Em geral, é recomendado manter apenas variáveis com correlação significativa para reduzir ruído e complexidade.\n",
        "\n",
        "Nos testes realizados, observou-se que variáveis com correlação em torno de 0.15 com a variável alvo já contribuíram positivamente para o desempenho do modelo, mesmo sendo consideradas correlações fracas em termos estatísticos.\n",
        "\n",
        "Durante esse processo, foi identificada multicolinearidade entre as variáveis Cobrança Total e Cobrança Mensal, ou seja, elas estavam fortemente correlacionadas entre si. Para evitar redundância de informação, foi decidido remover a coluna Cobrança Mensal.\n",
        "\n",
        "Após novos testes, constatou-se que o modelo obteve melhor desempenho ao utilizar apenas a variável Cobrança Total, o que reforça a escolha."
      ],
      "metadata": {
        "id": "UqIHRjZXEgAF"
      }
    },
    {
      "cell_type": "code",
      "execution_count": 66,
      "metadata": {
        "colab": {
          "base_uri": "https://localhost:8080/"
        },
        "id": "leOrp8aHNj9d",
        "outputId": "c8ce8d9f-7935-4c69-c9b3-0bcffcf6d010"
      },
      "outputs": [
        {
          "output_type": "stream",
          "name": "stdout",
          "text": [
            "Correlação com sinal\n",
            " Internet Fibra Óptica             0.300949\n",
            "Pagamento por Conta Eletrônica    0.294626\n",
            "Fatura em Papel                   0.186666\n",
            "Idoso                             0.146733\n",
            "Pagamento Automático (Cartão)    -0.131085\n",
            "Tem Cônjuge                      -0.148546\n",
            "Tem Suporte Técnico              -0.160440\n",
            "Tem Dependentes                  -0.161384\n",
            "Tem Segurança Online             -0.166828\n",
            "Contrato de 1 Ano                -0.173958\n",
            "Cobranca_Total                   -0.193345\n",
            "Sem Internet                     -0.224051\n",
            "Contrato de 2 Anos               -0.295138\n",
            "Meses de Contrato                -0.344079\n",
            "dtype: float64\n",
            "\n",
            "Correlação sem sinal\n",
            " Meses de Contrato                 0.344079\n",
            "Internet Fibra Óptica             0.300949\n",
            "Contrato de 2 Anos                0.295138\n",
            "Pagamento por Conta Eletrônica    0.294626\n",
            "Sem Internet                      0.224051\n",
            "Cobranca_Total                    0.193345\n",
            "Fatura em Papel                   0.186666\n",
            "Contrato de 1 Ano                 0.173958\n",
            "Tem Segurança Online              0.166828\n",
            "Tem Dependentes                   0.161384\n",
            "Tem Suporte Técnico               0.160440\n",
            "Tem Cônjuge                       0.148546\n",
            "Idoso                             0.146733\n",
            "Pagamento Automático (Cartão)     0.131085\n",
            "dtype: float64\n"
          ]
        }
      ],
      "source": [
        "print('Correlação com sinal\\n',\n",
        "    df.corrwith(variavel_alvo['Cancelou'])\n",
        "    .sort_values(ascending=False)\n",
        ")\n",
        "\n",
        "print('\\nCorrelação sem sinal\\n',\n",
        "    df.corrwith(variavel_alvo['Cancelou'])\n",
        "    .abs().sort_values(ascending=False)\n",
        ")\n",
        "\n"
      ]
    },
    {
      "cell_type": "markdown",
      "source": [
        "####Análise Gráfica: Cancelamento x Tempo de Contrato e Cobrança Total\n",
        "\n",
        "Conforme solicitado no guia do projeto, foram criados gráficos para analisar a relação entre a variável alvo (Cancelou) e duas variáveis importantes: Meses de Contrato e Cobrança Total.\n",
        "\n",
        "O gráfico Cancelamento x Meses de Contrato mostra que clientes com menor tempo de contrato têm maior propensão a cancelar. Isso indica que o cancelamento tende a ocorrer nos primeiros meses do relacionamento com a empresa.\n",
        "\n",
        "O gráfico Cancelamento x Cobrança Total reforça essa análise: clientes com menor valor acumulado de cobrança tendem a cancelar com mais frequência, enquanto clientes que pagaram valores maiores ao longo do tempo raramente cancelam, sugerindo maior fidelização.\n",
        "\n",
        "Essas análises gráficas ajudam a entender o comportamento do cliente e a identificar perfis de maior risco de evasão.\n"
      ],
      "metadata": {
        "id": "bxmgkmaRGt7Q"
      }
    },
    {
      "cell_type": "code",
      "execution_count": 67,
      "metadata": {
        "colab": {
          "base_uri": "https://localhost:8080/",
          "height": 1000
        },
        "id": "JoMj_q3x2xU_",
        "outputId": "8af39730-cc30-4e1e-9dba-bea4fc33e569"
      },
      "outputs": [
        {
          "output_type": "stream",
          "name": "stderr",
          "text": [
            "/tmp/ipython-input-3996297258.py:1: FutureWarning: A value is trying to be set on a copy of a DataFrame or Series through chained assignment using an inplace method.\n",
            "The behavior will change in pandas 3.0. This inplace method will never work because the intermediate object on which we are setting values always behaves as a copy.\n",
            "\n",
            "For example, when doing 'df[col].method(value, inplace=True)', try using 'df.method({col: value}, inplace=True)' or df[col] = df[col].method(value) instead, to perform the operation inplace on the original object.\n",
            "\n",
            "\n",
            "  dados['Cobranca_Total'].replace('', '0', inplace=True)\n",
            "/tmp/ipython-input-3996297258.py:2: FutureWarning: A value is trying to be set on a copy of a DataFrame or Series through chained assignment using an inplace method.\n",
            "The behavior will change in pandas 3.0. This inplace method will never work because the intermediate object on which we are setting values always behaves as a copy.\n",
            "\n",
            "For example, when doing 'df[col].method(value, inplace=True)', try using 'df.method({col: value}, inplace=True)' or df[col] = df[col].method(value) instead, to perform the operation inplace on the original object.\n",
            "\n",
            "\n",
            "  dados['Cobranca_Total'].replace(' ', '0', inplace=True)\n"
          ]
        },
        {
          "output_type": "display_data",
          "data": {
            "text/plain": [
              "<Figure size 600x400 with 1 Axes>"
            ],
            "image/png": "[encoded data removed]"
          },
          "metadata": {}
        },
        {
          "output_type": "display_data",
          "data": {
            "text/plain": [
              "<Figure size 600x400 with 1 Axes>"
            ],
            "image/png": "[encoded data removed]"
          },
          "metadata": {}
        }
      ],
      "source": [
        "\n",
        "dados['Cobranca_Total'].replace('', '0', inplace=True)\n",
        "dados['Cobranca_Total'].replace(' ', '0', inplace=True)\n",
        "dados['Cobranca_Total'] = dados['Cobranca_Total'].astype(float)\n",
        "\n",
        "plt.figure(figsize=(6,4))\n",
        "sns.boxplot(x='Cancelou',\n",
        "            y='Meses_Contrato',\n",
        "            data=dados)\n",
        "plt.xlabel(\"Cancelou (0=Não, 1=Sim)\")\n",
        "plt.ylabel(\"Meses de Contrato\")\n",
        "plt.title(\"Cancelamento x meses contrato\")\n",
        "plt.show()\n",
        "\n",
        "plt.figure(figsize=(6,4))\n",
        "sns.boxplot(x='Cancelou',\n",
        "            y='Cobranca_Total',\n",
        "            data=dados)\n",
        "plt.xlabel(\"Cancelou (0=Não, 1=Sim)\")\n",
        "plt.ylabel(\"Cobrança Total (R$)\")\n",
        "plt.title(\"Cobrança Total x cancelamento\")\n",
        "plt.show()"
      ]
    },
    {
      "cell_type": "markdown",
      "metadata": {
        "id": "hmmKozR5mR3m"
      },
      "source": [
        "##Regressão"
      ]
    },
    {
      "cell_type": "markdown",
      "source": [
        "### Regressão Logistica + Smote + Threshold"
      ],
      "metadata": {
        "id": "DaUl9J3Ev5nz"
      }
    },
    {
      "cell_type": "markdown",
      "source": [
        "A Regressão Logística é um modelo de classificação binária que estima a probabilidade de ocorrência de um evento, com saída entre 0 e 1.\n",
        "No contexto deste projeto, o modelo prevê a probabilidade de um cliente cancelar ou não cancelar o serviço. A decisão final é feita com base em um ponto de corte (threshold): se a probabilidade for maior ou igual ao threshold, o cliente é classificado como \"cancelou\"; caso contrário, \"não cancelou\".\n",
        "\n",
        "Devido ao desbalanceamento entre as classes (Cancelou = 1 e Não Cancelou = 0), inicialmente foi utilizado o parâmetro class_weight='balanced', que já proporcionava bons resultados. No entanto, após alguns testes, foi definida uma distribuição de pesos personalizada, que resultou em melhorias nas métricas, especialmente no recall.\n",
        "\n",
        "O melhor threshold foi identificado automaticamente por meio da biblioteca precision_recall_curve, que gera um gráfico comparando a precisão e o recall para diferentes pontos de corte. O valor ótimo foi selecionado com base no maior F1-score, conforme mostrado no gráfico a seguir."
      ],
      "metadata": {
        "id": "kyGDXKW4MwOs"
      }
    },
    {
      "cell_type": "code",
      "source": [
        "\n",
        "# Melhor esquema identificado\n",
        "pesos_custom1 = {0: 1.4, 1: 3.5}\n",
        "\n",
        "# Instancia e treina com custom1\n",
        "model = LogisticRegression(\n",
        "    max_iter=1000,\n",
        "    class_weight=pesos_custom1,\n",
        "    random_state=42\n",
        ")\n",
        "# Modelo treinado com dados smotado.\n",
        "model.fit(X_resample, y_resample)\n",
        "\n",
        "# Probabilidade da classe “1” no teste já padronizado\n",
        "y_proba = model.predict_proba(X_test_padronizado)[:, 1]\n",
        "\n",
        "# Escolha do threshold\n",
        "best_threshold = 0.915\n",
        "\n",
        "# Previsão usando esse threshold em vez do .predict()\n",
        "y_pred_thr = (y_proba >= best_threshold).astype(int)\n",
        "\n",
        "# Ajusta y_test para 1-D, caso ainda seja coluna\n",
        "y_test = y_test.squeeze()\n",
        "\n",
        "# Métricas\n",
        "print(\"Matriz de Confusão (threshold = %.3f):\" % best_threshold)\n",
        "print(confusion_matrix(y_test, y_pred_thr))\n",
        "\n",
        "print(\"\\nRelatório de Classificação:\")\n",
        "print(classification_report(\n",
        "    y_test, y_pred_thr,\n",
        "    target_names=['Não Cancelou', 'Cancelou']\n",
        "))\n",
        "\n",
        "auc = roc_auc_score(y_test, y_proba)\n",
        "print(f\"AUC-ROC (invariável ao threshold): {auc:.3f}\")\n"
      ],
      "metadata": {
        "colab": {
          "base_uri": "https://localhost:8080/"
        },
        "id": "mgtOBeDLISdX",
        "outputId": "944d53b9-2591-40d7-8b03-6e5c384c4362"
      },
      "execution_count": 68,
      "outputs": [
        {
          "output_type": "stream",
          "name": "stderr",
          "text": [
            "/usr/local/lib/python3.11/dist-packages/sklearn/utils/validation.py:1408: DataConversionWarning: A column-vector y was passed when a 1d array was expected. Please change the shape of y to (n_samples, ), for example using ravel().\n",
            "  y = column_or_1d(y, warn=True)\n"
          ]
        },
        {
          "output_type": "stream",
          "name": "stdout",
          "text": [
            "Matriz de Confusão (threshold = 0.915):\n",
            "[[1285  335]\n",
            " [ 175  386]]\n",
            "\n",
            "Relatório de Classificação:\n",
            "              precision    recall  f1-score   support\n",
            "\n",
            "Não Cancelou       0.88      0.79      0.83      1620\n",
            "    Cancelou       0.54      0.69      0.60       561\n",
            "\n",
            "    accuracy                           0.77      2181\n",
            "   macro avg       0.71      0.74      0.72      2181\n",
            "weighted avg       0.79      0.77      0.77      2181\n",
            "\n",
            "AUC-ROC (invariável ao threshold): 0.818\n"
          ]
        },
        {
          "output_type": "stream",
          "name": "stderr",
          "text": [
            "/usr/local/lib/python3.11/dist-packages/sklearn/utils/validation.py:2739: UserWarning: X does not have valid feature names, but LogisticRegression was fitted with feature names\n",
            "  warnings.warn(\n"
          ]
        }
      ]
    },
    {
      "cell_type": "code",
      "source": [
        "\n",
        "# Precision, recall e thresholds\n",
        "precisions, recalls, thresholds = precision_recall_curve(y_test, y_proba)\n",
        "\n",
        "# Plot precision e recall vs threshold\n",
        "plt.figure(figsize=(8,4))\n",
        "plt.plot(thresholds, precisions[:-1], label='Precision')\n",
        "plt.plot(thresholds, recalls[:-1], label='Recall')\n",
        "plt.xlabel('Threshold')\n",
        "plt.ylabel('Score')\n",
        "plt.title('Precision e Recall vs Threshold')\n",
        "plt.legend()\n",
        "plt.grid(True)\n",
        "plt.show()\n",
        "\n",
        "# Calcule F1 para cada threshold e identifique o melhor\n",
        "f1_scores     = 2 * precisions * recalls / (precisions + recalls)\n",
        "best_idx      = f1_scores.argmax()\n",
        "best_threshold= thresholds[best_idx]\n",
        "print(f\"Melhor threshold (F1): {best_threshold:.3f}\")\n",
        "print(f\"Precision: {precisions[best_idx]:.3f}, Recall: {recalls[best_idx]:.3f}, F1: {f1_scores[best_idx]:.3f}\")\n",
        "\n",
        "# Re-avalia com o threshold ajustado\n",
        "y_pred_opt = (y_proba >= best_threshold).astype(int)\n",
        "print(\"\\nRelatório de Classificação com threshold ajustado:\")\n",
        "print(classification_report(y_test, y_pred_opt, target_names=['Não Cancelou','Cancelou']))"
      ],
      "metadata": {
        "id": "6CmS6foxCIk4",
        "colab": {
          "base_uri": "https://localhost:8080/",
          "height": 635
        },
        "outputId": "80dbba5a-6890-4ce3-d505-5134ddf3d76f"
      },
      "execution_count": 69,
      "outputs": [
        {
          "output_type": "display_data",
          "data": {
            "text/plain": [
              "<Figure size 800x400 with 1 Axes>"
            ],
            "image/png": "[encoded data removed]"
          },
          "metadata": {}
        },
        {
          "output_type": "stream",
          "name": "stdout",
          "text": [
            "Melhor threshold (F1): 0.915\n",
            "Precision: 0.536, Recall: 0.690, F1: 0.603\n",
            "\n",
            "Relatório de Classificação com threshold ajustado:\n",
            "              precision    recall  f1-score   support\n",
            "\n",
            "Não Cancelou       0.88      0.79      0.83      1620\n",
            "    Cancelou       0.54      0.69      0.60       561\n",
            "\n",
            "    accuracy                           0.77      2181\n",
            "   macro avg       0.71      0.74      0.72      2181\n",
            "weighted avg       0.79      0.77      0.78      2181\n",
            "\n"
          ]
        }
      ]
    },
    {
      "cell_type": "markdown",
      "source": [
        "###Regressão Random Forest"
      ],
      "metadata": {
        "id": "FFJ7O__Nwaa_"
      }
    },
    {
      "cell_type": "markdown",
      "source": [
        "O Random Forest é um modelo de classificação baseado em várias árvores de decisão. Ele funciona como uma “votação em grupo”, onde cada árvore dá sua opinião sobre a classe, e o modelo final escolhe a mais votada.\n",
        "\n",
        "Como funciona:\n",
        "O modelo cria centenas de árvores (neste projeto, 500), cada uma treinada em uma amostra diferente dos dados (com substituição).\n",
        "\n",
        "Em cada divisão dentro das árvores, ele escolhe apenas um subconjunto aleatório de variáveis para decidir a melhor forma de separar os dados — isso ajuda a reduzir o viés e o overfitting.\n",
        "\n",
        "Quando um novo cliente precisa ser classificado, cada árvore vota se ele vai ou não cancelar, e o modelo retorna a decisão com mais votos (classificação final)."
      ],
      "metadata": {
        "id": "cCYXAhl_TxRh"
      }
    },
    {
      "cell_type": "code",
      "source": [
        "\n",
        "# n_estimators = número de árvores na floresta\n",
        "# max_depth    = profundidade máxima de cada árvore\n",
        "# class_weight = utiliza a mesma proporção dos dados do regressão linear.\n",
        "rf = RandomForestClassifier(\n",
        "    n_estimators=500,\n",
        "    max_depth=8,\n",
        "    class_weight=pesos_custom1,\n",
        "    random_state=42,\n",
        "    n_jobs=-1            # usa todos os núcleos do processador\n",
        ")\n",
        "\n",
        "# Treinar o Random Forest no conjunto balanceado\n",
        "rf.fit(X_resample, y_resample)\n",
        "\n",
        "# Fazer previsões no conjunto de teste\n",
        "#  - y_pred: rótulos (0 ou 1)\n",
        "#  - y_proba: probabilidade de cada cliente pertencer à classe “1” (cancelou)\n",
        "y_pred  = rf.predict(X_test)\n",
        "y_proba = rf.predict_proba(X_test)[:,1]\n",
        "\n",
        "# Avaliar performance\n",
        "\n",
        "# Matriz de confusão\n",
        "print(\"Matriz de Confusão:\")\n",
        "print(confusion_matrix(y_test, y_pred))\n",
        "\n",
        "# Relatório de classificação (precision, recall, f1)\n",
        "print(\"\\nRelatório de Classificação:\")\n",
        "print(classification_report(\n",
        "    y_test, y_pred,\n",
        "    target_names=['Não Cancelou','Cancelou']\n",
        "))\n",
        "\n",
        "# AUC-ROC\n",
        "auc = roc_auc_score(y_test, y_proba)\n",
        "print(f\"AUC-ROC: {auc:.3f}\")"
      ],
      "metadata": {
        "colab": {
          "base_uri": "https://localhost:8080/"
        },
        "id": "s5d3geAuwdAE",
        "outputId": "abe54e13-3efb-46af-8d38-7dfcd1949770"
      },
      "execution_count": 70,
      "outputs": [
        {
          "output_type": "stream",
          "name": "stderr",
          "text": [
            "/usr/local/lib/python3.11/dist-packages/sklearn/base.py:1389: DataConversionWarning: A column-vector y was passed when a 1d array was expected. Please change the shape of y to (n_samples,), for example using ravel().\n",
            "  return fit_method(estimator, *args, **kwargs)\n"
          ]
        },
        {
          "output_type": "stream",
          "name": "stdout",
          "text": [
            "Matriz de Confusão:\n",
            "[[1246  374]\n",
            " [ 137  424]]\n",
            "\n",
            "Relatório de Classificação:\n",
            "              precision    recall  f1-score   support\n",
            "\n",
            "Não Cancelou       0.90      0.77      0.83      1620\n",
            "    Cancelou       0.53      0.76      0.62       561\n",
            "\n",
            "    accuracy                           0.77      2181\n",
            "   macro avg       0.72      0.76      0.73      2181\n",
            "weighted avg       0.81      0.77      0.78      2181\n",
            "\n",
            "AUC-ROC: 0.843\n"
          ]
        }
      ]
    },
    {
      "cell_type": "markdown",
      "source": [
        "##Avaliação dos modelos"
      ],
      "metadata": {
        "id": "CTt2xbKhWBrT"
      }
    },
    {
      "cell_type": "markdown",
      "source": [
        "####Qual modelo teve melhor desempenho?\n",
        "\n",
        "O modelo Random Forest apresentou o melhor desempenho geral. Apesar de ter um precision levemente inferior (cerca de 1% a menos), seu recall foi aproximadamente 10% superior em relação à Regressão Logística.\n",
        "Esse aumento no recall indica que o Random Forest conseguiu identificar uma maior proporção de clientes que realmente cancelaram o serviço, o que é especialmente relevante em problemas de cancelamento, onde identificar corretamente os casos positivos é mais importante do que apenas evitar falsos positivos.\n",
        "\n",
        "####Overfitting ou Underfitting\n",
        "Algum modelo apresentou overfitting ou underfitting?\n",
        "Houve indícios de leve overfitting em ambos os modelos, especialmente devido ao desbalanceamento da variável alvo — havia uma predominância de clientes que não cancelaram, o que pode levar o modelo a favorecer a classe majoritária.\n",
        "\n",
        "Para reduzir esse efeito, foi aplicado o SMOTE (Synthetic Minority Over-sampling Technique), que gerou dados sintéticos da classe minoritária até ela representar 40% do total da classe majoritária, usando 5 vizinhos próximos para criar exemplos semelhantes e realistas.\n",
        "\n",
        "Além disso:\n",
        "\n",
        "Na Regressão Logística, foi adotado um threshold ajustado (em vez do valor padrão 0.5) para melhorar o equilíbrio entre precisão e recall.\n",
        "\n",
        "Também foi utilizado um peso de classe personalizado (class_weight) para reforçar a penalização dos erros na classe minoritária (cancelamentos), o que ajudou a melhorar o recall do modelo."
      ],
      "metadata": {
        "id": "ofzoaxg5Xl8L"
      }
    },
    {
      "cell_type": "markdown",
      "source": [
        "###BackLog - Análise de Importância das Variáveis"
      ],
      "metadata": {
        "id": "BQXahw6OeD2Q"
      }
    },
    {
      "cell_type": "markdown",
      "source": [
        "####Importância das Variáveis na Regressão Logistica\n",
        "\n",
        "A Regressão Logística estima a log-odds (logaritmo da razão de chances) de um cliente cancelar o serviço com base nas variáveis de entrada. Cada variável recebe um coeficiente, que indica como ela influencia na probabilidade de cancelamento.\n",
        "\n",
        "Um coeficiente positivo aumenta a chance de cancelamento.\n",
        "\n",
        "Um coeficiente negativo reduz essa chance.\n",
        "\n",
        "Quanto maior o valor absoluto do coeficiente, maior sua influência na decisão do modelo.\n",
        "\n",
        "Essa interpretação torna o modelo mais transparente e útil para gerar insights de negócio, ao revelar quais fatores estão mais associados à evasão de clientes."
      ],
      "metadata": {
        "id": "NNPP2YChziIr"
      }
    },
    {
      "cell_type": "code",
      "source": [
        "coeficientes = model.coef_[0]\n",
        "nomes = X.columns\n",
        "\n",
        "# Cria o DataFrame com nome e coeficiente\n",
        "df_coef = pd.DataFrame({\n",
        "    'Variável': nomes,\n",
        "    'Coeficiente': coeficientes\n",
        "})\n",
        "\n",
        "# Ordena pelo valor do coeficiente (do menor para o maior)\n",
        "df_coef = df_coef.sort_values(by='Coeficiente', ascending=False)\n",
        "\n",
        "# Exibe a tabela ordenada\n",
        "print(df_coef.to_string(index=False))"
      ],
      "metadata": {
        "colab": {
          "base_uri": "https://localhost:8080/"
        },
        "id": "D8buzTHadWtc",
        "outputId": "d37b4545-1d00-495e-81d9-5dfa830ca803"
      },
      "execution_count": 71,
      "outputs": [
        {
          "output_type": "stream",
          "name": "stdout",
          "text": [
            "                      Variável  Coeficiente\n",
            "         Internet Fibra Óptica     0.644786\n",
            "Pagamento por Conta Eletrônica     0.509560\n",
            "               Fatura em Papel     0.400731\n",
            "                         Idoso     0.279097\n",
            " Pagamento Automático (Cartão)     0.047345\n",
            "                Cobranca_Total     0.000332\n",
            "             Meses de Contrato    -0.053605\n",
            "                   Tem Cônjuge    -0.067827\n",
            "               Tem Dependentes    -0.151369\n",
            "          Tem Segurança Online    -0.334257\n",
            "           Tem Suporte Técnico    -0.348387\n",
            "             Contrato de 1 Ano    -0.684105\n",
            "                  Sem Internet    -1.001547\n",
            "            Contrato de 2 Anos    -1.320580\n"
          ]
        }
      ]
    },
    {
      "cell_type": "markdown",
      "source": [
        "####Importância das Variáveis no Random Forest\n",
        "O modelo Random Forest permite avaliar quais variáveis mais contribuíram para a tomada de decisão durante o treinamento.\n",
        "\n",
        "Isso é feito por meio do atributo feature_importances_, que calcula, para cada variável, o quanto ela ajudou a reduzir a impureza (Gini ou entropia) nos nós de decisão, ao longo de todas as árvores da floresta.\n",
        "\n",
        "Em resumo:\n",
        "\n",
        "Cada vez que uma variável é usada para dividir os dados em uma árvore, o modelo calcula quanto essa divisão melhorou a separação entre as classes.\n",
        "\n",
        "Esses ganhos de separação (redução de impureza) são acumulados para cada variável.\n",
        "\n",
        "No final, os valores são normalizados para ficar entre 0 e 1, resultando na métrica de importância de cada feature.\n",
        "\n",
        "Esse processo ajuda a identificar quais variáveis foram mais relevantes para prever o cancelamento dos clientes."
      ],
      "metadata": {
        "id": "oxlNeEsZ5eak"
      }
    },
    {
      "cell_type": "code",
      "source": [
        "nomes = X.columns\n",
        "\n",
        "# Extrai importâncias\n",
        "importancias = rf.feature_importances_\n",
        "\n",
        "# Monta um DataFrame ordenado\n",
        "df_imp = (\n",
        "    pd.DataFrame({'feature': nomes, 'importance': importancias})\n",
        "      .sort_values('importance', ascending=False)\n",
        "      .reset_index(drop=True)\n",
        ")\n",
        "\n",
        "print(df_imp)\n"
      ],
      "metadata": {
        "colab": {
          "base_uri": "https://localhost:8080/"
        },
        "id": "Mdbw95RxdaXp",
        "outputId": "9624780f-ac25-41e0-92d5-b7a8b2685130"
      },
      "execution_count": 72,
      "outputs": [
        {
          "output_type": "stream",
          "name": "stdout",
          "text": [
            "                           feature  importance\n",
            "0                Meses de Contrato    0.184204\n",
            "1               Contrato de 2 Anos    0.143200\n",
            "2            Internet Fibra Óptica    0.137316\n",
            "3                   Cobranca_Total    0.135787\n",
            "4   Pagamento por Conta Eletrônica    0.109946\n",
            "5                     Sem Internet    0.061819\n",
            "6                Contrato de 1 Ano    0.059951\n",
            "7                  Fatura em Papel    0.043507\n",
            "8             Tem Segurança Online    0.032829\n",
            "9              Tem Suporte Técnico    0.030636\n",
            "10                 Tem Dependentes    0.018727\n",
            "11                           Idoso    0.017298\n",
            "12                     Tem Cônjuge    0.014504\n",
            "13   Pagamento Automático (Cartão)    0.010277\n"
          ]
        }
      ]
    },
    {
      "cell_type": "markdown",
      "source": [
        "### Conclusões e Recomendações\n",
        "####Principais fatores que influenciam a evasão\n",
        "\n",
        "| Fator                              | Efeito no cancelamento                                 | Evidência                                     |\n",
        "| ---------------------------------- | ----------------------------------------------- | --------------------------------------------- |\n",
        "| **Meses de Contrato**              | Menor tenure → maior probabilidade de canc.     | RF: importância 18 %; RL: coeficiente \\–0,054 |\n",
        "| **Contrato de 2 Anos**             | Protege fortemente contra canc.                 | RF: 14 %; RL: coeficiente \\–1,321             |\n",
        "| **Internet Fibra Óptica**          | Aumenta moderadamente o canc.                   | RF: 13,7 %; RL: coeficiente +0,645            |\n",
        "| **Cobrança Total**                 | Clientes com baixo gasto acumulado canc. mais   | RF: 13,6 %; RL: coeficiente ≈0                |\n",
        "| **Pagamento por Conta Eletrônica** | Leva a um pequeno aumento no canc.              | RF: 11 %; RL: coeficiente +0,510              |\n",
        "\n",
        "Observação: RL = Regressão Logística; RF = Random Forest.\n"
      ],
      "metadata": {
        "id": "pXCWA3tg88gL"
      }
    },
    {
      "cell_type": "markdown",
      "source": [
        "\n",
        "####Desempenho dos Modelos\n",
        "- Random Forest foi o melhor classificador, com AUC-ROC 0.843 e recall de 0.76 (vs. 0.818 e 0.69 na RL).\n",
        "\n",
        "- Regressão Logística é mais interpretável, mas subestima cancelamentos em casos não lineares.\n"
      ],
      "metadata": {
        "id": "l3n2MPWUbirA"
      }
    },
    {
      "cell_type": "code",
      "source": [
        "\n",
        "# Recria o DataFrame de importâncias\n",
        "feat_imp = pd.DataFrame({\n",
        "    'feature': X_train.columns,\n",
        "    'importance': rf.feature_importances_\n",
        "})\n",
        "\n",
        "# Seleciona as top 5 mais importantes\n",
        "top5 = feat_imp.sort_values('importance', ascending=True).tail(5)\n",
        "\n",
        "# Plota em horizontal\n",
        "plt.figure(figsize=(8, 4))\n",
        "plt.barh(top5['feature'], top5['importance'])\n",
        "plt.xlabel('Importância')\n",
        "plt.title('Top 5 Variáveis — Random Forest')\n",
        "plt.tight_layout()\n",
        "plt.show()\n"
      ],
      "metadata": {
        "colab": {
          "base_uri": "https://localhost:8080/",
          "height": 407
        },
        "id": "WLykcTYJ9CuO",
        "outputId": "2a9fbc61-50d6-497d-e3a7-812945a88190"
      },
      "execution_count": 73,
      "outputs": [
        {
          "output_type": "display_data",
          "data": {
            "text/plain": [
              "<Figure size 800x400 with 1 Axes>"
            ],
            "image/png": "[encoded data removed]"
          },
          "metadata": {}
        }
      ]
    },
    {
      "cell_type": "code",
      "source": [
        "from sklearn.metrics import roc_auc_score, roc_curve, auc\n",
        "# Probabilidades de cada modelo\n",
        "y_proba_lr = model.predict_proba(X_test_padronizado)[:, 1]\n",
        "y_proba_rf = rf.predict_proba(  X_test_padronizado)[:, 1]\n",
        "\n",
        "# Calcula FPR/TPR e AUC\n",
        "fpr_lr, tpr_lr, _ = roc_curve(y_test, y_proba_lr)\n",
        "fpr_rf, tpr_rf, _ = roc_curve(y_test, y_proba_rf)\n",
        "auc_lr = auc(fpr_lr, tpr_lr)\n",
        "auc_rf = auc(fpr_rf, tpr_rf)\n",
        "\n",
        "# Plota as duas curvas\n",
        "plt.figure(figsize=(6,6))\n",
        "plt.plot(fpr_lr, tpr_lr, label=f'Logística (AUC={auc_lr:.3f})')\n",
        "plt.plot(fpr_rf, tpr_rf, label=f'Random Forest (AUC={auc_rf:.3f})')\n",
        "plt.plot([0,1], [0,1], linestyle='--')  # baseline\n",
        "plt.xlabel('Falso Positivo (FPR)')\n",
        "plt.ylabel('Verdadeiro Positivo (TPR)')\n",
        "plt.title('Curva ROC — Comparação de Modelos')\n",
        "plt.legend(loc='lower right')\n",
        "plt.grid(True)\n",
        "plt.show()\n"
      ],
      "metadata": {
        "colab": {
          "base_uri": "https://localhost:8080/",
          "height": 633
        },
        "id": "qxr-XJvsY__l",
        "outputId": "071dc57b-b490-4cf3-9433-23129fdaf838"
      },
      "execution_count": 74,
      "outputs": [
        {
          "output_type": "stream",
          "name": "stderr",
          "text": [
            "/usr/local/lib/python3.11/dist-packages/sklearn/utils/validation.py:2739: UserWarning: X does not have valid feature names, but LogisticRegression was fitted with feature names\n",
            "  warnings.warn(\n",
            "/usr/local/lib/python3.11/dist-packages/sklearn/utils/validation.py:2739: UserWarning: X does not have valid feature names, but RandomForestClassifier was fitted with feature names\n",
            "  warnings.warn(\n"
          ]
        },
        {
          "output_type": "display_data",
          "data": {
            "text/plain": [
              "<Figure size 600x600 with 1 Axes>"
            ],
            "image/png": "[encoded data removed]"
          },
          "metadata": {}
        }
      ]
    },
    {
      "cell_type": "markdown",
      "source": [
        "####Estratégias de retenção sugeridas\n",
        "Foco no onboarding nos 3 primeiros meses\n",
        "\n",
        "- Oferecer tutoriais, descontos progressivos ou brindes para clientes recém-contratados. ***Meta***: diminuir cancelamento elevado em tenure < 6 meses.\n",
        "\n",
        "- Descontos ou benefícios (upgrade de plano, pontos de fidelidade) para quem optar por 2 anos. ***Base***: “Contrato de 2 Anos” reduz fortemente o cancelamento.\n",
        "\n",
        "- Monitorar performance de rede e criar atendimento prioritário.\n",
        "\n",
        "- Programas de feedback rápido para reduzir insatisfação.\n",
        "\n",
        "- Ofertas de pacotes combinados (TV, streaming, suporte técnico) para aumentar o “lifetime value”.\n",
        "\n",
        "- Incentivar upgrades de plano conforme uso.\n",
        "\n",
        "- Destacar as vantagens do pagamento automático por cartão ou conta eletrônica (menor cancelamento que boleto).\n",
        "\n",
        "- Notificações de vencimento e facilidades de parcelamento."
      ],
      "metadata": {
        "id": "jTAtpJP9bul0"
      }
    }
  ],
  "metadata": {
    "colab": {
      "provenance": [],
      "toc_visible": true,
      "authorship_tag": "ABX9TyN2bQzLvZHJnybJBuEchO03",
      "include_colab_link": true
    },
    "kernelspec": {
      "display_name": "Python 3",
      "name": "python3"
    },
    "language_info": {
      "name": "python"
    }
  },
  "nbformat": 4,
  "nbformat_minor": 0
}